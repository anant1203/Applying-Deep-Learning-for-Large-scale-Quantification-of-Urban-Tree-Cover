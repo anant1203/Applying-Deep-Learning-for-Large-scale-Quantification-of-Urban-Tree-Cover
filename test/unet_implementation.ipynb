{
 "cells": [
  {
   "cell_type": "code",
   "execution_count": 14,
   "metadata": {},
   "outputs": [],
   "source": [
    "import pandas as pd\n",
    "import imageio\n",
    "import glob\n",
    "import matplotlib\n",
    "import matplotlib.pyplot as plt\n",
    "import os\n",
    "import cv2\n",
    "from copy import deepcopy\n",
    "import json\n",
    "import numpy as np\n",
    "from skimage.transform import resize\n",
    "from keras.applications.mobilenet_v2 import MobileNetV2\n",
    "from keras.preprocessing import image\n",
    "from keras.models import Model\n",
    "from keras.layers import Dense,Activation,Input, concatenate, Conv2D, MaxPooling2D, Conv2DTranspose, Dropout, BatchNormalization\n",
    "from keras.optimizers import Adam\n",
    "from keras import backend as K\n",
    "import keras\n",
    "import tensorflow as tf"
   ]
  },
  {
   "cell_type": "markdown",
   "metadata": {},
   "source": [
    "# mask data set"
   ]
  },
  {
   "cell_type": "code",
   "execution_count": 13,
   "metadata": {},
   "outputs": [
    {
     "ename": "FileNotFoundError",
     "evalue": "[Errno 2] No such file or directory: '/home/jupyter/dataset/mask/train/'",
     "output_type": "error",
     "traceback": [
      "\u001b[0;31m---------------------------------------------------------------------------\u001b[0m",
      "\u001b[0;31mFileNotFoundError\u001b[0m                         Traceback (most recent call last)",
      "\u001b[0;32m<ipython-input-13-f7d9be9167af>\u001b[0m in \u001b[0;36m<module>\u001b[0;34m\u001b[0m\n\u001b[1;32m      1\u001b[0m \u001b[0mmask_dir_path\u001b[0m\u001b[0;34m=\u001b[0m\u001b[0;34m\"/home/jupyter/dataset/mask/train/\"\u001b[0m\u001b[0;34m\u001b[0m\u001b[0m\n\u001b[0;32m----> 2\u001b[0;31m \u001b[0mmask_dir\u001b[0m\u001b[0;34m=\u001b[0m\u001b[0mos\u001b[0m\u001b[0;34m.\u001b[0m\u001b[0mlistdir\u001b[0m\u001b[0;34m(\u001b[0m\u001b[0mmask_dir_path\u001b[0m\u001b[0;34m)\u001b[0m\u001b[0;34m\u001b[0m\u001b[0m\n\u001b[0m",
      "\u001b[0;31mFileNotFoundError\u001b[0m: [Errno 2] No such file or directory: '/home/jupyter/dataset/mask/train/'"
     ]
    }
   ],
   "source": [
    "mask_dir_path=\"/home/jupyter/dataset/mask/train/\"\n",
    "mask_dir=os.listdir(mask_dir_path)"
   ]
  },
  {
   "cell_type": "code",
   "execution_count": 47,
   "metadata": {},
   "outputs": [
    {
     "name": "stdout",
     "output_type": "stream",
     "text": [
      "number of mask file ::: 2975\n"
     ]
    }
   ],
   "source": [
    "mask_files = [f for f in glob.glob(mask_dir_path + \"**/*color.png\", recursive=True)]\n",
    "print(\"number of mask file :::\",len(mask_files))"
   ]
  },
  {
   "cell_type": "code",
   "execution_count": 48,
   "metadata": {},
   "outputs": [
    {
     "data": {
      "text/plain": [
       "'/home/jupyter/dataset/mask/train/aachen/aachen_000000_000019_gtFine_color.png'"
      ]
     },
     "execution_count": 48,
     "metadata": {},
     "output_type": "execute_result"
    }
   ],
   "source": [
    "mask_files.sort()\n",
    "mask_files[0]"
   ]
  },
  {
   "cell_type": "code",
   "execution_count": 49,
   "metadata": {},
   "outputs": [],
   "source": [
    "gray_img=[]\n",
    "for i in mask_files:\n",
    "    mask_arr=imageio.imread(i)\n",
    "    gray_arr=cv2.cvtColor(mask_arr, cv2.COLOR_BGR2GRAY)\n",
    "    gray_img.append(gray_arr)\n",
    "    #gray_img.append(resize(gray_arr,(512,512),preserve_range=True))"
   ]
  },
  {
   "cell_type": "code",
   "execution_count": 50,
   "metadata": {},
   "outputs": [],
   "source": [
    "gray_img=np.array(gray_img)"
   ]
  },
  {
   "cell_type": "code",
   "execution_count": 51,
   "metadata": {},
   "outputs": [
    {
     "data": {
      "text/plain": [
       "(2975, 1024, 2048)"
      ]
     },
     "execution_count": 51,
     "metadata": {},
     "output_type": "execute_result"
    }
   ],
   "source": [
    "gray_img.shape"
   ]
  },
  {
   "cell_type": "code",
   "execution_count": 65,
   "metadata": {},
   "outputs": [],
   "source": [
    "#np.save('gray_img_outline.npy',gray_img)"
   ]
  },
  {
   "cell_type": "code",
   "execution_count": 5,
   "metadata": {},
   "outputs": [],
   "source": [
    "train_mask=np.load('train_mask.npy')"
   ]
  },
  {
   "cell_type": "code",
   "execution_count": 8,
   "metadata": {},
   "outputs": [
    {
     "data": {
      "text/plain": [
       "<matplotlib.image.AxesImage at 0x7fcdf9d44898>"
      ]
     },
     "execution_count": 8,
     "metadata": {},
     "output_type": "execute_result"
    },
    {
     "data": {
      "image/png": "[encoded data removed]",
      "text/plain": [
       "<Figure size 432x288 with 1 Axes>"
      ]
     },
     "metadata": {
      "needs_background": "light"
     },
     "output_type": "display_data"
    }
   ],
   "source": [
    "plt.imshow(train_mask[0])"
   ]
  },
  {
   "cell_type": "markdown",
   "metadata": {},
   "source": [
    "# loading the json file"
   ]
  },
  {
   "cell_type": "code",
   "execution_count": 3,
   "metadata": {},
   "outputs": [],
   "source": [
    "gray_img=np.load('gray_img_outline.npy')"
   ]
  },
  {
   "cell_type": "code",
   "execution_count": 52,
   "metadata": {},
   "outputs": [
    {
     "name": "stdout",
     "output_type": "stream",
     "text": [
      "number of json file ::: 2975\n"
     ]
    }
   ],
   "source": [
    "json_file=[f for f in glob.glob(mask_dir_path + \"**/*.json\", recursive=True)]\n",
    "print(\"number of json file :::\",len(json_file))"
   ]
  },
  {
   "cell_type": "code",
   "execution_count": 53,
   "metadata": {},
   "outputs": [],
   "source": [
    "json_file.sort()"
   ]
  },
  {
   "cell_type": "code",
   "execution_count": 54,
   "metadata": {},
   "outputs": [
    {
     "data": {
      "text/plain": [
       "4"
      ]
     },
     "execution_count": 54,
     "metadata": {},
     "output_type": "execute_result"
    }
   ],
   "source": [
    "import gc\n",
    "gc.collect()"
   ]
  },
  {
   "cell_type": "code",
   "execution_count": 55,
   "metadata": {},
   "outputs": [
    {
     "data": {
      "text/plain": [
       "(2975, 1024, 2048)"
      ]
     },
     "execution_count": 55,
     "metadata": {},
     "output_type": "execute_result"
    }
   ],
   "source": [
    "gray_img.shape"
   ]
  },
  {
   "cell_type": "code",
   "execution_count": 56,
   "metadata": {},
   "outputs": [],
   "source": [
    "json_array=[]\n",
    "for i in json_file:\n",
    "        json_array.append(json.load(open(i)))"
   ]
  },
  {
   "cell_type": "code",
   "execution_count": 57,
   "metadata": {},
   "outputs": [],
   "source": [
    "new_mask_array=[]\n",
    "c=0\n",
    "for j in gray_img:\n",
    "    for i in json_array[c][\"objects\"]:\n",
    "        if(i['label']=='vegetation'):\n",
    "            temp=cv2.fillPoly(j,[np.asarray(i[\"polygon\"],dtype=np.int32)],255)\n",
    "        else:\n",
    "            temp1=cv2.fillPoly(j,[np.asarray(i[\"polygon\"],dtype=np.int32)],0)\n",
    "    temp[temp!=255]=0\n",
    "    new_mask_array.append(temp)\n",
    "    c=c+1"
   ]
  },
  {
   "cell_type": "code",
   "execution_count": 58,
   "metadata": {},
   "outputs": [],
   "source": [
    "new_mask_array=np.array(new_mask_array)\n",
    "#new_mask_array=np.reshape(new_mask_array,(new_mask_array.shape[0],new_mask_array.shape[1],new_mask_array.shape[2],1))"
   ]
  },
  {
   "cell_type": "code",
   "execution_count": 59,
   "metadata": {},
   "outputs": [],
   "source": [
    "mask_final_arr=[]\n",
    "for image in new_mask_array:\n",
    "    mask_final_arr.append(resize(image,(512,512),preserve_range=True))"
   ]
  },
  {
   "cell_type": "code",
   "execution_count": 60,
   "metadata": {},
   "outputs": [],
   "source": [
    "mask_final_arr=np.array(mask_final_arr)"
   ]
  },
  {
   "cell_type": "code",
   "execution_count": 61,
   "metadata": {},
   "outputs": [
    {
     "data": {
      "text/plain": [
       "(2975, 512, 512)"
      ]
     },
     "execution_count": 61,
     "metadata": {},
     "output_type": "execute_result"
    }
   ],
   "source": [
    "mask_final_arr.shape"
   ]
  },
  {
   "cell_type": "code",
   "execution_count": 64,
   "metadata": {},
   "outputs": [],
   "source": [
    "np.save('train_mask.npy',mask_final_arr)"
   ]
  },
  {
   "cell_type": "markdown",
   "metadata": {},
   "source": [
    "# checking original mask image"
   ]
  },
  {
   "cell_type": "code",
   "execution_count": 14,
   "metadata": {},
   "outputs": [
    {
     "data": {
      "text/plain": [
       "<matplotlib.image.AxesImage at 0x7f85ffb797f0>"
      ]
     },
     "execution_count": 14,
     "metadata": {},
     "output_type": "execute_result"
    },
    {
     "data": {
      "image/png": "[encoded data removed]",
      "text/plain": [
       "<Figure size 432x288 with 1 Axes>"
      ]
     },
     "metadata": {
      "needs_background": "light"
     },
     "output_type": "display_data"
    }
   ],
   "source": [
    "plt.imshow(new_mask_array[9])"
   ]
  },
  {
   "cell_type": "markdown",
   "metadata": {},
   "source": [
    "# image dataset"
   ]
  },
  {
   "cell_type": "code",
   "execution_count": 62,
   "metadata": {},
   "outputs": [],
   "source": [
    "image_dir_path=\"/home/jupyter/dataset/images/train/\""
   ]
  },
  {
   "cell_type": "code",
   "execution_count": 63,
   "metadata": {},
   "outputs": [],
   "source": [
    "image_dir= os.listdir(image_dir_path)"
   ]
  },
  {
   "cell_type": "code",
   "execution_count": 65,
   "metadata": {},
   "outputs": [
    {
     "data": {
      "text/plain": [
       "18"
      ]
     },
     "execution_count": 65,
     "metadata": {},
     "output_type": "execute_result"
    }
   ],
   "source": [
    "len(image_dir)"
   ]
  },
  {
   "cell_type": "code",
   "execution_count": 66,
   "metadata": {},
   "outputs": [
    {
     "name": "stdout",
     "output_type": "stream",
     "text": [
      "number of mask file ::: 2975\n"
     ]
    }
   ],
   "source": [
    "images_files = [f for f in glob.glob(image_dir_path + \"**/*.png\", recursive=True)]\n",
    "print(\"number of mask file :::\",len(images_files))"
   ]
  },
  {
   "cell_type": "code",
   "execution_count": 67,
   "metadata": {},
   "outputs": [
    {
     "data": {
      "text/plain": [
       "'/home/jupyter/dataset/images/train/aachen/aachen_000000_000019_leftImg8bit.png'"
      ]
     },
     "execution_count": 67,
     "metadata": {},
     "output_type": "execute_result"
    }
   ],
   "source": [
    "images_files.sort()\n",
    "images_files[0]"
   ]
  },
  {
   "cell_type": "code",
   "execution_count": 68,
   "metadata": {},
   "outputs": [],
   "source": [
    "image_array=[]\n",
    "for i in images_files:\n",
    "        img=imageio.imread(i)\n",
    "        img=cv2.cvtColor(img, cv2.COLOR_BGR2GRAY)\n",
    "        image_array.append(resize(img,(512,512),preserve_range=True))"
   ]
  },
  {
   "cell_type": "code",
   "execution_count": 69,
   "metadata": {},
   "outputs": [],
   "source": [
    "image_array=np.array(image_array)"
   ]
  },
  {
   "cell_type": "code",
   "execution_count": 71,
   "metadata": {},
   "outputs": [],
   "source": [
    "np.save('train_image.npy',image_array)"
   ]
  },
  {
   "cell_type": "code",
   "execution_count": 9,
   "metadata": {},
   "outputs": [],
   "source": [
    "train_image=np.load('train_image.npy')"
   ]
  },
  {
   "cell_type": "code",
   "execution_count": 10,
   "metadata": {},
   "outputs": [
    {
     "data": {
      "text/plain": [
       "(2975, 512, 512)"
      ]
     },
     "execution_count": 10,
     "metadata": {},
     "output_type": "execute_result"
    }
   ],
   "source": [
    "train_image.shape"
   ]
  },
  {
   "cell_type": "markdown",
   "metadata": {},
   "source": [
    "# image "
   ]
  },
  {
   "cell_type": "code",
   "execution_count": 70,
   "metadata": {},
   "outputs": [
    {
     "data": {
      "text/plain": [
       "<matplotlib.image.AxesImage at 0x7f2acd6293c8>"
      ]
     },
     "execution_count": 70,
     "metadata": {},
     "output_type": "execute_result"
    },
    {
     "data": {
      "image/png": "[encoded data removed]",
      "text/plain": [
       "<Figure size 432x288 with 1 Axes>"
      ]
     },
     "metadata": {
      "needs_background": "light"
     },
     "output_type": "display_data"
    }
   ],
   "source": [
    "plt.imshow(image_array[9])"
   ]
  },
  {
   "cell_type": "markdown",
   "metadata": {},
   "source": [
    "# Unet model implemenation "
   ]
  },
  {
   "cell_type": "code",
   "execution_count": 2,
   "metadata": {},
   "outputs": [],
   "source": [
    "image_array=np.load('train_image.npy')\n",
    "new_mask_array=np.load('train_mask.npy')"
   ]
  },
  {
   "cell_type": "code",
   "execution_count": 3,
   "metadata": {},
   "outputs": [
    {
     "data": {
      "text/plain": [
       "(2975, 512, 512)"
      ]
     },
     "execution_count": 3,
     "metadata": {},
     "output_type": "execute_result"
    }
   ],
   "source": [
    "new_mask_array.shape"
   ]
  },
  {
   "cell_type": "code",
   "execution_count": 4,
   "metadata": {},
   "outputs": [],
   "source": [
    "image_array = image_array.astype('float32')"
   ]
  },
  {
   "cell_type": "code",
   "execution_count": 5,
   "metadata": {},
   "outputs": [],
   "source": [
    "image_array = image_array - np.mean(image_array)"
   ]
  },
  {
   "cell_type": "code",
   "execution_count": 6,
   "metadata": {},
   "outputs": [],
   "source": [
    "image_array = image_array / np.std(image_array)"
   ]
  },
  {
   "cell_type": "code",
   "execution_count": 7,
   "metadata": {},
   "outputs": [],
   "source": [
    "new_mask_array = new_mask_array/255"
   ]
  },
  {
   "cell_type": "code",
   "execution_count": 8,
   "metadata": {},
   "outputs": [],
   "source": [
    "image_array = image_array[...,np.newaxis]"
   ]
  },
  {
   "cell_type": "code",
   "execution_count": 9,
   "metadata": {},
   "outputs": [],
   "source": [
    "new_mask_array=new_mask_array[...,np.newaxis]"
   ]
  },
  {
   "cell_type": "code",
   "execution_count": 11,
   "metadata": {},
   "outputs": [
    {
     "data": {
      "text/plain": [
       "(2975, 512, 512, 1)"
      ]
     },
     "execution_count": 11,
     "metadata": {},
     "output_type": "execute_result"
    }
   ],
   "source": [
    "image_array.shape"
   ]
  },
  {
   "cell_type": "code",
   "execution_count": 12,
   "metadata": {},
   "outputs": [
    {
     "name": "stderr",
     "output_type": "stream",
     "text": [
      "Using TensorFlow backend.\n",
      "/usr/local/lib/python3.5/dist-packages/tensorflow/python/framework/dtypes.py:516: FutureWarning: Passing (type, 1) or '1type' as a synonym of type is deprecated; in a future version of numpy, it will be understood as (type, (1,)) / '(1,)type'.\n",
      "  _np_qint8 = np.dtype([(\"qint8\", np.int8, 1)])\n",
      "/usr/local/lib/python3.5/dist-packages/tensorflow/python/framework/dtypes.py:517: FutureWarning: Passing (type, 1) or '1type' as a synonym of type is deprecated; in a future version of numpy, it will be understood as (type, (1,)) / '(1,)type'.\n",
      "  _np_quint8 = np.dtype([(\"quint8\", np.uint8, 1)])\n",
      "/usr/local/lib/python3.5/dist-packages/tensorflow/python/framework/dtypes.py:518: FutureWarning: Passing (type, 1) or '1type' as a synonym of type is deprecated; in a future version of numpy, it will be understood as (type, (1,)) / '(1,)type'.\n",
      "  _np_qint16 = np.dtype([(\"qint16\", np.int16, 1)])\n",
      "/usr/local/lib/python3.5/dist-packages/tensorflow/python/framework/dtypes.py:519: FutureWarning: Passing (type, 1) or '1type' as a synonym of type is deprecated; in a future version of numpy, it will be understood as (type, (1,)) / '(1,)type'.\n",
      "  _np_quint16 = np.dtype([(\"quint16\", np.uint16, 1)])\n",
      "/usr/local/lib/python3.5/dist-packages/tensorflow/python/framework/dtypes.py:520: FutureWarning: Passing (type, 1) or '1type' as a synonym of type is deprecated; in a future version of numpy, it will be understood as (type, (1,)) / '(1,)type'.\n",
      "  _np_qint32 = np.dtype([(\"qint32\", np.int32, 1)])\n",
      "/usr/local/lib/python3.5/dist-packages/tensorflow/python/framework/dtypes.py:525: FutureWarning: Passing (type, 1) or '1type' as a synonym of type is deprecated; in a future version of numpy, it will be understood as (type, (1,)) / '(1,)type'.\n",
      "  np_resource = np.dtype([(\"resource\", np.ubyte, 1)])\n",
      "/usr/local/lib/python3.5/dist-packages/tensorboard/compat/tensorflow_stub/dtypes.py:541: FutureWarning: Passing (type, 1) or '1type' as a synonym of type is deprecated; in a future version of numpy, it will be understood as (type, (1,)) / '(1,)type'.\n",
      "  _np_qint8 = np.dtype([(\"qint8\", np.int8, 1)])\n",
      "/usr/local/lib/python3.5/dist-packages/tensorboard/compat/tensorflow_stub/dtypes.py:542: FutureWarning: Passing (type, 1) or '1type' as a synonym of type is deprecated; in a future version of numpy, it will be understood as (type, (1,)) / '(1,)type'.\n",
      "  _np_quint8 = np.dtype([(\"quint8\", np.uint8, 1)])\n",
      "/usr/local/lib/python3.5/dist-packages/tensorboard/compat/tensorflow_stub/dtypes.py:543: FutureWarning: Passing (type, 1) or '1type' as a synonym of type is deprecated; in a future version of numpy, it will be understood as (type, (1,)) / '(1,)type'.\n",
      "  _np_qint16 = np.dtype([(\"qint16\", np.int16, 1)])\n",
      "/usr/local/lib/python3.5/dist-packages/tensorboard/compat/tensorflow_stub/dtypes.py:544: FutureWarning: Passing (type, 1) or '1type' as a synonym of type is deprecated; in a future version of numpy, it will be understood as (type, (1,)) / '(1,)type'.\n",
      "  _np_quint16 = np.dtype([(\"quint16\", np.uint16, 1)])\n",
      "/usr/local/lib/python3.5/dist-packages/tensorboard/compat/tensorflow_stub/dtypes.py:545: FutureWarning: Passing (type, 1) or '1type' as a synonym of type is deprecated; in a future version of numpy, it will be understood as (type, (1,)) / '(1,)type'.\n",
      "  _np_qint32 = np.dtype([(\"qint32\", np.int32, 1)])\n",
      "/usr/local/lib/python3.5/dist-packages/tensorboard/compat/tensorflow_stub/dtypes.py:550: FutureWarning: Passing (type, 1) or '1type' as a synonym of type is deprecated; in a future version of numpy, it will be understood as (type, (1,)) / '(1,)type'.\n",
      "  np_resource = np.dtype([(\"resource\", np.ubyte, 1)])\n"
     ]
    },
    {
     "data": {
      "text/plain": [
       "['/job:localhost/replica:0/task:0/device:GPU:0']"
      ]
     },
     "execution_count": 12,
     "metadata": {},
     "output_type": "execute_result"
    }
   ],
   "source": [
    "from keras import backend as K\n",
    "K.tensorflow_backend._get_available_gpus()"
   ]
  },
  {
   "cell_type": "code",
   "execution_count": 13,
   "metadata": {},
   "outputs": [
    {
     "ename": "NameError",
     "evalue": "name 'Input' is not defined",
     "output_type": "error",
     "traceback": [
      "\u001b[0;31m---------------------------------------------------------------------------\u001b[0m",
      "\u001b[0;31mNameError\u001b[0m                                 Traceback (most recent call last)",
      "\u001b[0;32m<ipython-input-13-287d70889ea7>\u001b[0m in \u001b[0;36m<module>\u001b[0;34m\u001b[0m\n\u001b[0;32m----> 1\u001b[0;31m \u001b[0minputs\u001b[0m \u001b[0;34m=\u001b[0m \u001b[0mInput\u001b[0m\u001b[0;34m(\u001b[0m\u001b[0;34m(\u001b[0m\u001b[0;36m512\u001b[0m\u001b[0;34m,\u001b[0m \u001b[0;36m512\u001b[0m\u001b[0;34m,\u001b[0m \u001b[0;36m1\u001b[0m\u001b[0;34m)\u001b[0m\u001b[0;34m)\u001b[0m\u001b[0;34m\u001b[0m\u001b[0m\n\u001b[0m\u001b[1;32m      2\u001b[0m \u001b[0mconv1\u001b[0m \u001b[0;34m=\u001b[0m \u001b[0mConv2D\u001b[0m\u001b[0;34m(\u001b[0m\u001b[0;36m64\u001b[0m\u001b[0;34m,\u001b[0m \u001b[0;34m(\u001b[0m\u001b[0;36m3\u001b[0m\u001b[0;34m,\u001b[0m \u001b[0;36m3\u001b[0m\u001b[0;34m)\u001b[0m\u001b[0;34m,\u001b[0m \u001b[0mactivation\u001b[0m\u001b[0;34m=\u001b[0m\u001b[0;34m'relu'\u001b[0m\u001b[0;34m,\u001b[0m \u001b[0mpadding\u001b[0m\u001b[0;34m=\u001b[0m\u001b[0;34m'same'\u001b[0m\u001b[0;34m)\u001b[0m\u001b[0;34m(\u001b[0m\u001b[0minputs\u001b[0m\u001b[0;34m)\u001b[0m\u001b[0;34m\u001b[0m\u001b[0m\n\u001b[1;32m      3\u001b[0m \u001b[0;31m#b1 = BatchNormalization()(conv1)\u001b[0m\u001b[0;34m\u001b[0m\u001b[0;34m\u001b[0m\u001b[0m\n\u001b[1;32m      4\u001b[0m \u001b[0mconv1\u001b[0m \u001b[0;34m=\u001b[0m \u001b[0mConv2D\u001b[0m\u001b[0;34m(\u001b[0m\u001b[0;36m64\u001b[0m\u001b[0;34m,\u001b[0m \u001b[0;34m(\u001b[0m\u001b[0;36m3\u001b[0m\u001b[0;34m,\u001b[0m \u001b[0;36m3\u001b[0m\u001b[0;34m)\u001b[0m\u001b[0;34m,\u001b[0m \u001b[0mactivation\u001b[0m\u001b[0;34m=\u001b[0m\u001b[0;34m'relu'\u001b[0m\u001b[0;34m,\u001b[0m \u001b[0mpadding\u001b[0m\u001b[0;34m=\u001b[0m\u001b[0;34m'same'\u001b[0m\u001b[0;34m)\u001b[0m\u001b[0;34m(\u001b[0m\u001b[0mconv1\u001b[0m\u001b[0;34m)\u001b[0m\u001b[0;34m\u001b[0m\u001b[0m\n\u001b[1;32m      5\u001b[0m \u001b[0mb1\u001b[0m \u001b[0;34m=\u001b[0m \u001b[0mBatchNormalization\u001b[0m\u001b[0;34m(\u001b[0m\u001b[0;34m)\u001b[0m\u001b[0;34m(\u001b[0m\u001b[0mconv1\u001b[0m\u001b[0;34m)\u001b[0m\u001b[0;34m\u001b[0m\u001b[0m\n",
      "\u001b[0;31mNameError\u001b[0m: name 'Input' is not defined"
     ]
    }
   ],
   "source": [
    "inputs = Input((512, 512, 1))\n",
    "conv1 = Conv2D(64, (3, 3), activation='relu', padding='same')(inputs)\n",
    "#b1 = BatchNormalization()(conv1)\n",
    "conv1 = Conv2D(64, (3, 3), activation='relu', padding='same')(conv1)\n",
    "b1 = BatchNormalization()(conv1)\n",
    "pool1 = MaxPooling2D(pool_size=(2, 2))(b1)\n",
    "\n",
    "conv2 = Conv2D(128, (3, 3), activation='relu', padding='same')(pool1)\n",
    "#b2 = BatchNormalization()(conv2)\n",
    "conv2 = Conv2D(128, (3, 3), activation='relu', padding='same')(conv2)\n",
    "b2 = BatchNormalization()(conv2)\n",
    "drop2 = Dropout(0.5)(b2)\n",
    "pool2 = MaxPooling2D(pool_size=(2, 2))(drop2)\n",
    "\n",
    "conv3 = Conv2D(256, (3, 3), activation='relu', padding='same')(pool2)\n",
    "#b3 = BatchNormalization()(conv3)\n",
    "conv3 = Conv2D(256, (3, 3), activation='relu', padding='same')(conv3)\n",
    "b3 = BatchNormalization()(conv3)\n",
    "drop3 = Dropout(0.25)(b3)\n",
    "pool3 = MaxPooling2D(pool_size=(2, 2))(drop3)\n",
    "\n",
    "conv4 = Conv2D(512, (3, 3), activation='relu', padding='same')(pool3)\n",
    "#b4= BatchNormalization()(conv4)\n",
    "conv4 = Conv2D(512, (3, 3), activation='relu', padding='same')(conv4)\n",
    "b4 = BatchNormalization()(conv4)\n",
    "drop4 = Dropout(0.5)(b4)\n",
    "pool4 = MaxPooling2D(pool_size=(2, 2))(drop4)\n",
    "\n",
    "conv5 = Conv2D(1024, (3, 3), activation='relu', padding='same')(pool4)\n",
    "#b5 = BatchNormalization()(conv5)\n",
    "conv5 = Conv2D(1024, (3, 3), activation='relu', padding='same')(conv5)\n",
    "b5 = BatchNormalization()(conv5)\n",
    "drop5 = Dropout(0.5)(b5)\n",
    "\n",
    "up6 = concatenate([Conv2DTranspose(512, (2, 2), strides=(2, 2), padding='same')(drop5), drop4], axis=3)\n",
    "#b6 = BatchNormalization(momentum=0.5)(up6)\n",
    "conv6 = Conv2D(512, (3, 3), activation='relu', padding='same')(up6)\n",
    "#b6 = BatchNormalization()(conv6)\n",
    "conv6 = Conv2D(512, (3, 3), activation='relu', padding='same')(conv6)\n",
    "b6 = BatchNormalization()(conv6)\n",
    "drop6 = Dropout(0.5)(b6)\n",
    "\n",
    "up7 = concatenate([Conv2DTranspose(512, (2, 2), strides=(2, 2), padding='same')(drop6), drop3], axis=3)\n",
    "#b7 = BatchNormalization(momentum=0.5)(up7)\n",
    "conv7 = Conv2D(256, (3, 3), activation='relu', padding='same')(up7)\n",
    "#b7 = BatchNormalization()(conv7)\n",
    "conv7 = Conv2D(256, (3, 3), activation='relu', padding='same')(conv7)\n",
    "b7 = BatchNormalization()(conv7)\n",
    "drop7 = Dropout(0.5)(b7)\n",
    "\n",
    "up8 = concatenate([Conv2DTranspose(512, (2, 2), strides=(2, 2), padding='same')(drop7), drop2], axis=3)\n",
    "#b8 = BatchNormalization(momentum=0.5)(up8)\n",
    "conv8 = Conv2D(128, (3, 3), activation='relu', padding='same')(up8)\n",
    "#b8 = BatchNormalization()(conv8)\n",
    "conv8 = Conv2D(128, (3, 3), activation='relu', padding='same')(conv8)\n",
    "b8 = BatchNormalization()(conv8)\n",
    "drop8 = Dropout(0.5)(b8)\n",
    "\n",
    "up9 = concatenate([Conv2DTranspose(512, (2, 2), strides=(2, 2), padding='same')(drop8), conv1], axis=3)\n",
    "#b9 = BatchNormalization(momentum=0.5)(up9)\n",
    "conv9 = Conv2D(64, (3, 3), activation='relu', padding='same')(up9)\n",
    "#b9 = BatchNormalization()(conv9)\n",
    "conv9 = Conv2D(64, (3, 3), activation='relu', padding='same')(conv9)\n",
    "b9 = BatchNormalization()(conv9)\n",
    "\n",
    "conv10 = Conv2D(1, (1, 1), activation='sigmoid')(b9)\n",
    "\n",
    "model = Model(inputs=[inputs], outputs=[conv10])\n",
    "\n",
    "model.compile(optimizer=Adam(lr=1e-4), loss='binary_crossentropy', metrics=['accuracy'])\n"
   ]
  },
  {
   "cell_type": "code",
   "execution_count": 5,
   "metadata": {},
   "outputs": [
    {
     "name": "stdout",
     "output_type": "stream",
     "text": [
      "Model: \"model\"\n",
      "__________________________________________________________________________________________________\n",
      "Layer (type)                    Output Shape         Param #     Connected to                     \n",
      "==================================================================================================\n",
      "input_1 (InputLayer)            [(None, 512, 512, 1) 0                                            \n",
      "__________________________________________________________________________________________________\n",
      "conv2d (Conv2D)                 (None, 512, 512, 64) 640         input_1[0][0]                    \n",
      "__________________________________________________________________________________________________\n",
      "conv2d_1 (Conv2D)               (None, 512, 512, 64) 36928       conv2d[0][0]                     \n",
      "__________________________________________________________________________________________________\n",
      "batch_normalization (BatchNorma (None, 512, 512, 64) 256         conv2d_1[0][0]                   \n",
      "__________________________________________________________________________________________________\n",
      "max_pooling2d (MaxPooling2D)    (None, 256, 256, 64) 0           batch_normalization[0][0]        \n",
      "__________________________________________________________________________________________________\n",
      "conv2d_2 (Conv2D)               (None, 256, 256, 128 73856       max_pooling2d[0][0]              \n",
      "__________________________________________________________________________________________________\n",
      "conv2d_3 (Conv2D)               (None, 256, 256, 128 147584      conv2d_2[0][0]                   \n",
      "__________________________________________________________________________________________________\n",
      "batch_normalization_1 (BatchNor (None, 256, 256, 128 512         conv2d_3[0][0]                   \n",
      "__________________________________________________________________________________________________\n",
      "dropout (Dropout)               (None, 256, 256, 128 0           batch_normalization_1[0][0]      \n",
      "__________________________________________________________________________________________________\n",
      "max_pooling2d_1 (MaxPooling2D)  (None, 128, 128, 128 0           dropout[0][0]                    \n",
      "__________________________________________________________________________________________________\n",
      "conv2d_4 (Conv2D)               (None, 128, 128, 256 295168      max_pooling2d_1[0][0]            \n",
      "__________________________________________________________________________________________________\n",
      "conv2d_5 (Conv2D)               (None, 128, 128, 256 590080      conv2d_4[0][0]                   \n",
      "__________________________________________________________________________________________________\n",
      "batch_normalization_2 (BatchNor (None, 128, 128, 256 1024        conv2d_5[0][0]                   \n",
      "__________________________________________________________________________________________________\n",
      "dropout_1 (Dropout)             (None, 128, 128, 256 0           batch_normalization_2[0][0]      \n",
      "__________________________________________________________________________________________________\n",
      "max_pooling2d_2 (MaxPooling2D)  (None, 64, 64, 256)  0           dropout_1[0][0]                  \n",
      "__________________________________________________________________________________________________\n",
      "conv2d_6 (Conv2D)               (None, 64, 64, 512)  1180160     max_pooling2d_2[0][0]            \n",
      "__________________________________________________________________________________________________\n",
      "conv2d_7 (Conv2D)               (None, 64, 64, 512)  2359808     conv2d_6[0][0]                   \n",
      "__________________________________________________________________________________________________\n",
      "batch_normalization_3 (BatchNor (None, 64, 64, 512)  2048        conv2d_7[0][0]                   \n",
      "__________________________________________________________________________________________________\n",
      "dropout_2 (Dropout)             (None, 64, 64, 512)  0           batch_normalization_3[0][0]      \n",
      "__________________________________________________________________________________________________\n",
      "max_pooling2d_3 (MaxPooling2D)  (None, 32, 32, 512)  0           dropout_2[0][0]                  \n",
      "__________________________________________________________________________________________________\n",
      "conv2d_8 (Conv2D)               (None, 32, 32, 1024) 4719616     max_pooling2d_3[0][0]            \n",
      "__________________________________________________________________________________________________\n",
      "conv2d_9 (Conv2D)               (None, 32, 32, 1024) 9438208     conv2d_8[0][0]                   \n",
      "__________________________________________________________________________________________________\n",
      "batch_normalization_4 (BatchNor (None, 32, 32, 1024) 4096        conv2d_9[0][0]                   \n",
      "__________________________________________________________________________________________________\n",
      "dropout_3 (Dropout)             (None, 32, 32, 1024) 0           batch_normalization_4[0][0]      \n",
      "__________________________________________________________________________________________________\n",
      "conv2d_transpose (Conv2DTranspo (None, 64, 64, 512)  2097664     dropout_3[0][0]                  \n",
      "__________________________________________________________________________________________________\n",
      "concatenate (Concatenate)       (None, 64, 64, 1024) 0           conv2d_transpose[0][0]           \n",
      "                                                                 dropout_2[0][0]                  \n",
      "__________________________________________________________________________________________________\n",
      "conv2d_10 (Conv2D)              (None, 64, 64, 512)  4719104     concatenate[0][0]                \n",
      "__________________________________________________________________________________________________\n",
      "conv2d_11 (Conv2D)              (None, 64, 64, 512)  2359808     conv2d_10[0][0]                  \n",
      "__________________________________________________________________________________________________\n",
      "batch_normalization_5 (BatchNor (None, 64, 64, 512)  2048        conv2d_11[0][0]                  \n",
      "__________________________________________________________________________________________________\n",
      "dropout_4 (Dropout)             (None, 64, 64, 512)  0           batch_normalization_5[0][0]      \n",
      "__________________________________________________________________________________________________\n",
      "conv2d_transpose_1 (Conv2DTrans (None, 128, 128, 512 1049088     dropout_4[0][0]                  \n",
      "__________________________________________________________________________________________________\n",
      "concatenate_1 (Concatenate)     (None, 128, 128, 768 0           conv2d_transpose_1[0][0]         \n",
      "                                                                 dropout_1[0][0]                  \n",
      "__________________________________________________________________________________________________\n",
      "conv2d_12 (Conv2D)              (None, 128, 128, 256 1769728     concatenate_1[0][0]              \n",
      "__________________________________________________________________________________________________\n",
      "conv2d_13 (Conv2D)              (None, 128, 128, 256 590080      conv2d_12[0][0]                  \n",
      "__________________________________________________________________________________________________\n",
      "batch_normalization_6 (BatchNor (None, 128, 128, 256 1024        conv2d_13[0][0]                  \n",
      "__________________________________________________________________________________________________\n",
      "dropout_5 (Dropout)             (None, 128, 128, 256 0           batch_normalization_6[0][0]      \n",
      "__________________________________________________________________________________________________\n",
      "conv2d_transpose_2 (Conv2DTrans (None, 256, 256, 512 524800      dropout_5[0][0]                  \n",
      "__________________________________________________________________________________________________\n",
      "concatenate_2 (Concatenate)     (None, 256, 256, 640 0           conv2d_transpose_2[0][0]         \n",
      "                                                                 dropout[0][0]                    \n",
      "__________________________________________________________________________________________________\n",
      "conv2d_14 (Conv2D)              (None, 256, 256, 128 737408      concatenate_2[0][0]              \n",
      "__________________________________________________________________________________________________\n",
      "conv2d_15 (Conv2D)              (None, 256, 256, 128 147584      conv2d_14[0][0]                  \n",
      "__________________________________________________________________________________________________\n",
      "batch_normalization_7 (BatchNor (None, 256, 256, 128 512         conv2d_15[0][0]                  \n",
      "__________________________________________________________________________________________________\n",
      "dropout_6 (Dropout)             (None, 256, 256, 128 0           batch_normalization_7[0][0]      \n",
      "__________________________________________________________________________________________________\n",
      "conv2d_transpose_3 (Conv2DTrans (None, 512, 512, 512 262656      dropout_6[0][0]                  \n",
      "__________________________________________________________________________________________________\n",
      "concatenate_3 (Concatenate)     (None, 512, 512, 576 0           conv2d_transpose_3[0][0]         \n",
      "                                                                 conv2d_1[0][0]                   \n",
      "__________________________________________________________________________________________________\n",
      "conv2d_16 (Conv2D)              (None, 512, 512, 64) 331840      concatenate_3[0][0]              \n",
      "__________________________________________________________________________________________________\n",
      "conv2d_17 (Conv2D)              (None, 512, 512, 64) 36928       conv2d_16[0][0]                  \n",
      "__________________________________________________________________________________________________\n",
      "batch_normalization_8 (BatchNor (None, 512, 512, 64) 256         conv2d_17[0][0]                  \n",
      "__________________________________________________________________________________________________\n",
      "conv2d_18 (Conv2D)              (None, 512, 512, 1)  65          batch_normalization_8[0][0]      \n",
      "==================================================================================================\n",
      "Total params: 33,480,577\n",
      "Trainable params: 33,474,689\n",
      "Non-trainable params: 5,888\n",
      "__________________________________________________________________________________________________\n"
     ]
    }
   ],
   "source": [
    "model.summary()"
   ]
  },
  {
   "cell_type": "code",
   "execution_count": 43,
   "metadata": {},
   "outputs": [
    {
     "name": "stdout",
     "output_type": "stream",
     "text": [
      "Epoch 1/10\n",
      "2975/2975 [==============================] - 3318s 1s/sample - loss: 0.2727 - acc: 0.9038\n",
      "Epoch 2/10\n",
      "2975/2975 [==============================] - 3316s 1s/sample - loss: 0.1546 - acc: 0.9339\n",
      "Epoch 3/10\n",
      "2975/2975 [==============================] - 3316s 1s/sample - loss: 0.1333 - acc: 0.9410\n",
      "Epoch 4/10\n",
      "2975/2975 [==============================] - 3312s 1s/sample - loss: 0.1215 - acc: 0.9451\n",
      "Epoch 5/10\n",
      "2975/2975 [==============================] - 3309s 1s/sample - loss: 0.1146 - acc: 0.9474\n",
      "Epoch 6/10\n",
      "2975/2975 [==============================] - 3310s 1s/sample - loss: 0.1080 - acc: 0.9494\n",
      "Epoch 7/10\n",
      "2975/2975 [==============================] - 3315s 1s/sample - loss: 0.1027 - acc: 0.9511\n",
      "Epoch 8/10\n",
      "2975/2975 [==============================] - 3311s 1s/sample - loss: 0.0975 - acc: 0.9528\n",
      "Epoch 9/10\n",
      "2975/2975 [==============================] - 3310s 1s/sample - loss: 0.0942 - acc: 0.9537\n",
      "Epoch 10/10\n",
      "2975/2975 [==============================] - 3310s 1s/sample - loss: 0.0913 - acc: 0.9544\n"
     ]
    },
    {
     "data": {
      "text/plain": [
       "<tensorflow.python.keras.callbacks.History at 0x7f8796f790f0>"
      ]
     },
     "execution_count": 43,
     "metadata": {},
     "output_type": "execute_result"
    }
   ],
   "source": [
    "model.fit(image_array, new_mask_array, batch_size=1, epochs=10, verbose=1, shuffle=True)"
   ]
  },
  {
   "cell_type": "code",
   "execution_count": 36,
   "metadata": {},
   "outputs": [],
   "source": [
    "model.save('unet_model.h5')"
   ]
  },
  {
   "cell_type": "markdown",
   "metadata": {},
   "source": [
    "# testing and prediction of model"
   ]
  },
  {
   "cell_type": "code",
   "execution_count": 17,
   "metadata": {},
   "outputs": [
    {
     "name": "stdout",
     "output_type": "stream",
     "text": [
      "WARNING:tensorflow:From /usr/local/lib/python3.5/dist-packages/tensorflow/python/ops/init_ops.py:97: calling GlorotUniform.__init__ (from tensorflow.python.ops.init_ops) with dtype is deprecated and will be removed in a future version.\n",
      "Instructions for updating:\n",
      "Call initializer instance with the dtype argument instead of passing it to the constructor\n",
      "WARNING:tensorflow:From /usr/local/lib/python3.5/dist-packages/tensorflow/python/ops/init_ops.py:1251: calling VarianceScaling.__init__ (from tensorflow.python.ops.init_ops) with dtype is deprecated and will be removed in a future version.\n",
      "Instructions for updating:\n",
      "Call initializer instance with the dtype argument instead of passing it to the constructor\n",
      "WARNING:tensorflow:From /usr/local/lib/python3.5/dist-packages/tensorflow/python/ops/init_ops.py:97: calling Zeros.__init__ (from tensorflow.python.ops.init_ops) with dtype is deprecated and will be removed in a future version.\n",
      "Instructions for updating:\n",
      "Call initializer instance with the dtype argument instead of passing it to the constructor\n",
      "WARNING:tensorflow:From /usr/local/lib/python3.5/dist-packages/tensorflow/python/ops/init_ops.py:97: calling Ones.__init__ (from tensorflow.python.ops.init_ops) with dtype is deprecated and will be removed in a future version.\n",
      "Instructions for updating:\n",
      "Call initializer instance with the dtype argument instead of passing it to the constructor\n",
      "WARNING:tensorflow:From /usr/local/lib/python3.5/dist-packages/tensorflow/python/ops/nn_impl.py:180: add_dispatch_support.<locals>.wrapper (from tensorflow.python.ops.array_ops) is deprecated and will be removed in a future version.\n",
      "Instructions for updating:\n",
      "Use tf.where in 2.0, which has the same broadcast rule as np.where\n"
     ]
    }
   ],
   "source": [
    "import tensorflow\n",
    "from tensorflow.keras.models import load_model\n",
    "model=load_model('model.h5')"
   ]
  },
  {
   "cell_type": "code",
   "execution_count": 19,
   "metadata": {},
   "outputs": [
    {
     "name": "stdout",
     "output_type": "stream",
     "text": [
      "Model: \"model_1\"\n",
      "__________________________________________________________________________________________________\n",
      "Layer (type)                    Output Shape         Param #     Connected to                     \n",
      "==================================================================================================\n",
      "input_4 (InputLayer)            [(None, 512, 512, 1) 0                                            \n",
      "__________________________________________________________________________________________________\n",
      "conv2d_19 (Conv2D)              (None, 512, 512, 64) 640         input_4[0][0]                    \n",
      "__________________________________________________________________________________________________\n",
      "conv2d_20 (Conv2D)              (None, 512, 512, 64) 36928       conv2d_19[0][0]                  \n",
      "__________________________________________________________________________________________________\n",
      "batch_normalization_22 (BatchNo (None, 512, 512, 64) 256         conv2d_20[0][0]                  \n",
      "__________________________________________________________________________________________________\n",
      "max_pooling2d_4 (MaxPooling2D)  (None, 256, 256, 64) 0           batch_normalization_22[0][0]     \n",
      "__________________________________________________________________________________________________\n",
      "conv2d_21 (Conv2D)              (None, 256, 256, 128 73856       max_pooling2d_4[0][0]            \n",
      "__________________________________________________________________________________________________\n",
      "conv2d_22 (Conv2D)              (None, 256, 256, 128 147584      conv2d_21[0][0]                  \n",
      "__________________________________________________________________________________________________\n",
      "batch_normalization_23 (BatchNo (None, 256, 256, 128 512         conv2d_22[0][0]                  \n",
      "__________________________________________________________________________________________________\n",
      "dropout_7 (Dropout)             (None, 256, 256, 128 0           batch_normalization_23[0][0]     \n",
      "__________________________________________________________________________________________________\n",
      "max_pooling2d_5 (MaxPooling2D)  (None, 128, 128, 128 0           dropout_7[0][0]                  \n",
      "__________________________________________________________________________________________________\n",
      "conv2d_23 (Conv2D)              (None, 128, 128, 256 295168      max_pooling2d_5[0][0]            \n",
      "__________________________________________________________________________________________________\n",
      "conv2d_24 (Conv2D)              (None, 128, 128, 256 590080      conv2d_23[0][0]                  \n",
      "__________________________________________________________________________________________________\n",
      "batch_normalization_24 (BatchNo (None, 128, 128, 256 1024        conv2d_24[0][0]                  \n",
      "__________________________________________________________________________________________________\n",
      "dropout_8 (Dropout)             (None, 128, 128, 256 0           batch_normalization_24[0][0]     \n",
      "__________________________________________________________________________________________________\n",
      "max_pooling2d_6 (MaxPooling2D)  (None, 64, 64, 256)  0           dropout_8[0][0]                  \n",
      "__________________________________________________________________________________________________\n",
      "conv2d_25 (Conv2D)              (None, 64, 64, 512)  1180160     max_pooling2d_6[0][0]            \n",
      "__________________________________________________________________________________________________\n",
      "conv2d_26 (Conv2D)              (None, 64, 64, 512)  2359808     conv2d_25[0][0]                  \n",
      "__________________________________________________________________________________________________\n",
      "batch_normalization_25 (BatchNo (None, 64, 64, 512)  2048        conv2d_26[0][0]                  \n",
      "__________________________________________________________________________________________________\n",
      "dropout_9 (Dropout)             (None, 64, 64, 512)  0           batch_normalization_25[0][0]     \n",
      "__________________________________________________________________________________________________\n",
      "max_pooling2d_7 (MaxPooling2D)  (None, 32, 32, 512)  0           dropout_9[0][0]                  \n",
      "__________________________________________________________________________________________________\n",
      "conv2d_27 (Conv2D)              (None, 32, 32, 1024) 4719616     max_pooling2d_7[0][0]            \n",
      "__________________________________________________________________________________________________\n",
      "conv2d_28 (Conv2D)              (None, 32, 32, 1024) 9438208     conv2d_27[0][0]                  \n",
      "__________________________________________________________________________________________________\n",
      "batch_normalization_26 (BatchNo (None, 32, 32, 1024) 4096        conv2d_28[0][0]                  \n",
      "__________________________________________________________________________________________________\n",
      "dropout_10 (Dropout)            (None, 32, 32, 1024) 0           batch_normalization_26[0][0]     \n",
      "__________________________________________________________________________________________________\n",
      "conv2d_transpose_4 (Conv2DTrans (None, 64, 64, 512)  2097664     dropout_10[0][0]                 \n",
      "__________________________________________________________________________________________________\n",
      "concatenate_4 (Concatenate)     (None, 64, 64, 1024) 0           conv2d_transpose_4[0][0]         \n",
      "                                                                 dropout_9[0][0]                  \n",
      "__________________________________________________________________________________________________\n",
      "conv2d_29 (Conv2D)              (None, 64, 64, 512)  4719104     concatenate_4[0][0]              \n",
      "__________________________________________________________________________________________________\n",
      "conv2d_30 (Conv2D)              (None, 64, 64, 512)  2359808     conv2d_29[0][0]                  \n",
      "__________________________________________________________________________________________________\n",
      "batch_normalization_27 (BatchNo (None, 64, 64, 512)  2048        conv2d_30[0][0]                  \n",
      "__________________________________________________________________________________________________\n",
      "dropout_11 (Dropout)            (None, 64, 64, 512)  0           batch_normalization_27[0][0]     \n",
      "__________________________________________________________________________________________________\n",
      "conv2d_transpose_5 (Conv2DTrans (None, 128, 128, 512 1049088     dropout_11[0][0]                 \n",
      "__________________________________________________________________________________________________\n",
      "concatenate_5 (Concatenate)     (None, 128, 128, 768 0           conv2d_transpose_5[0][0]         \n",
      "                                                                 dropout_8[0][0]                  \n",
      "__________________________________________________________________________________________________\n",
      "conv2d_31 (Conv2D)              (None, 128, 128, 256 1769728     concatenate_5[0][0]              \n",
      "__________________________________________________________________________________________________\n",
      "conv2d_32 (Conv2D)              (None, 128, 128, 256 590080      conv2d_31[0][0]                  \n",
      "__________________________________________________________________________________________________\n",
      "batch_normalization_28 (BatchNo (None, 128, 128, 256 1024        conv2d_32[0][0]                  \n",
      "__________________________________________________________________________________________________\n",
      "dropout_12 (Dropout)            (None, 128, 128, 256 0           batch_normalization_28[0][0]     \n",
      "__________________________________________________________________________________________________\n",
      "conv2d_transpose_6 (Conv2DTrans (None, 256, 256, 512 524800      dropout_12[0][0]                 \n",
      "__________________________________________________________________________________________________\n",
      "concatenate_6 (Concatenate)     (None, 256, 256, 640 0           conv2d_transpose_6[0][0]         \n",
      "                                                                 dropout_7[0][0]                  \n",
      "__________________________________________________________________________________________________\n",
      "conv2d_33 (Conv2D)              (None, 256, 256, 128 737408      concatenate_6[0][0]              \n",
      "__________________________________________________________________________________________________\n",
      "conv2d_34 (Conv2D)              (None, 256, 256, 128 147584      conv2d_33[0][0]                  \n",
      "__________________________________________________________________________________________________\n",
      "batch_normalization_29 (BatchNo (None, 256, 256, 128 512         conv2d_34[0][0]                  \n",
      "__________________________________________________________________________________________________\n",
      "dropout_13 (Dropout)            (None, 256, 256, 128 0           batch_normalization_29[0][0]     \n",
      "__________________________________________________________________________________________________\n",
      "conv2d_transpose_7 (Conv2DTrans (None, 512, 512, 512 262656      dropout_13[0][0]                 \n",
      "__________________________________________________________________________________________________\n",
      "concatenate_7 (Concatenate)     (None, 512, 512, 576 0           conv2d_transpose_7[0][0]         \n",
      "                                                                 conv2d_20[0][0]                  \n",
      "__________________________________________________________________________________________________\n",
      "conv2d_35 (Conv2D)              (None, 512, 512, 64) 331840      concatenate_7[0][0]              \n",
      "__________________________________________________________________________________________________\n",
      "conv2d_36 (Conv2D)              (None, 512, 512, 64) 36928       conv2d_35[0][0]                  \n",
      "__________________________________________________________________________________________________\n",
      "batch_normalization_30 (BatchNo (None, 512, 512, 64) 256         conv2d_36[0][0]                  \n",
      "__________________________________________________________________________________________________\n",
      "conv2d_37 (Conv2D)              (None, 512, 512, 1)  65          batch_normalization_30[0][0]     \n",
      "==================================================================================================\n",
      "Total params: 33,480,577\n",
      "Trainable params: 33,474,689\n",
      "Non-trainable params: 5,888\n",
      "__________________________________________________________________________________________________\n"
     ]
    }
   ],
   "source": [
    "model.summary()"
   ]
  },
  {
   "cell_type": "code",
   "execution_count": 21,
   "metadata": {},
   "outputs": [
    {
     "name": "stdout",
     "output_type": "stream",
     "text": [
      "Epoch 1/5\n",
      "2975/2975 [==============================] - 1460s 491ms/sample - loss: 0.0669 - acc: 0.9573\n",
      "Epoch 2/5\n",
      " 669/2975 [=====>........................] - ETA: 19:01 - loss: 0.0662 - acc: 0.9578"
     ]
    },
    {
     "ename": "KeyboardInterrupt",
     "evalue": "",
     "output_type": "error",
     "traceback": [
      "\u001b[0;31m---------------------------------------------------------------------------\u001b[0m",
      "\u001b[0;31mKeyboardInterrupt\u001b[0m                         Traceback (most recent call last)",
      "\u001b[0;32m<ipython-input-21-df3326901218>\u001b[0m in \u001b[0;36m<module>\u001b[0;34m\u001b[0m\n\u001b[0;32m----> 1\u001b[0;31m \u001b[0mmodel\u001b[0m\u001b[0;34m.\u001b[0m\u001b[0mfit\u001b[0m\u001b[0;34m(\u001b[0m\u001b[0mimage_array\u001b[0m\u001b[0;34m,\u001b[0m \u001b[0mnew_mask_array\u001b[0m\u001b[0;34m,\u001b[0m \u001b[0mbatch_size\u001b[0m\u001b[0;34m=\u001b[0m\u001b[0;36m1\u001b[0m\u001b[0;34m,\u001b[0m \u001b[0mepochs\u001b[0m\u001b[0;34m=\u001b[0m\u001b[0;36m5\u001b[0m\u001b[0;34m,\u001b[0m \u001b[0mverbose\u001b[0m\u001b[0;34m=\u001b[0m\u001b[0;36m1\u001b[0m\u001b[0;34m,\u001b[0m \u001b[0mshuffle\u001b[0m\u001b[0;34m=\u001b[0m\u001b[0;32mTrue\u001b[0m\u001b[0;34m)\u001b[0m\u001b[0;34m\u001b[0m\u001b[0m\n\u001b[0m",
      "\u001b[0;32m/usr/local/lib/python3.5/dist-packages/tensorflow/python/keras/engine/training.py\u001b[0m in \u001b[0;36mfit\u001b[0;34m(self, x, y, batch_size, epochs, verbose, callbacks, validation_split, validation_data, shuffle, class_weight, sample_weight, initial_epoch, steps_per_epoch, validation_steps, validation_freq, max_queue_size, workers, use_multiprocessing, **kwargs)\u001b[0m\n\u001b[1;32m    778\u001b[0m           \u001b[0mvalidation_steps\u001b[0m\u001b[0;34m=\u001b[0m\u001b[0mvalidation_steps\u001b[0m\u001b[0;34m,\u001b[0m\u001b[0;34m\u001b[0m\u001b[0m\n\u001b[1;32m    779\u001b[0m           \u001b[0mvalidation_freq\u001b[0m\u001b[0;34m=\u001b[0m\u001b[0mvalidation_freq\u001b[0m\u001b[0;34m,\u001b[0m\u001b[0;34m\u001b[0m\u001b[0m\n\u001b[0;32m--> 780\u001b[0;31m           steps_name='steps_per_epoch')\n\u001b[0m\u001b[1;32m    781\u001b[0m \u001b[0;34m\u001b[0m\u001b[0m\n\u001b[1;32m    782\u001b[0m   def evaluate(self,\n",
      "\u001b[0;32m/usr/local/lib/python3.5/dist-packages/tensorflow/python/keras/engine/training_arrays.py\u001b[0m in \u001b[0;36mmodel_iteration\u001b[0;34m(model, inputs, targets, sample_weights, batch_size, epochs, verbose, callbacks, val_inputs, val_targets, val_sample_weights, shuffle, initial_epoch, steps_per_epoch, validation_steps, validation_freq, mode, validation_in_fit, prepared_feed_values_from_dataset, steps_name, **kwargs)\u001b[0m\n\u001b[1;32m    361\u001b[0m \u001b[0;34m\u001b[0m\u001b[0m\n\u001b[1;32m    362\u001b[0m         \u001b[0;31m# Get outputs.\u001b[0m\u001b[0;34m\u001b[0m\u001b[0;34m\u001b[0m\u001b[0m\n\u001b[0;32m--> 363\u001b[0;31m         \u001b[0mbatch_outs\u001b[0m \u001b[0;34m=\u001b[0m \u001b[0mf\u001b[0m\u001b[0;34m(\u001b[0m\u001b[0mins_batch\u001b[0m\u001b[0;34m)\u001b[0m\u001b[0;34m\u001b[0m\u001b[0m\n\u001b[0m\u001b[1;32m    364\u001b[0m         \u001b[0;32mif\u001b[0m \u001b[0;32mnot\u001b[0m \u001b[0misinstance\u001b[0m\u001b[0;34m(\u001b[0m\u001b[0mbatch_outs\u001b[0m\u001b[0;34m,\u001b[0m \u001b[0mlist\u001b[0m\u001b[0;34m)\u001b[0m\u001b[0;34m:\u001b[0m\u001b[0;34m\u001b[0m\u001b[0m\n\u001b[1;32m    365\u001b[0m           \u001b[0mbatch_outs\u001b[0m \u001b[0;34m=\u001b[0m \u001b[0;34m[\u001b[0m\u001b[0mbatch_outs\u001b[0m\u001b[0;34m]\u001b[0m\u001b[0;34m\u001b[0m\u001b[0m\n",
      "\u001b[0;32m/usr/local/lib/python3.5/dist-packages/tensorflow/python/keras/backend.py\u001b[0m in \u001b[0;36m__call__\u001b[0;34m(self, inputs)\u001b[0m\n\u001b[1;32m   3290\u001b[0m \u001b[0;34m\u001b[0m\u001b[0m\n\u001b[1;32m   3291\u001b[0m     fetched = self._callable_fn(*array_vals,\n\u001b[0;32m-> 3292\u001b[0;31m                                 run_metadata=self.run_metadata)\n\u001b[0m\u001b[1;32m   3293\u001b[0m     \u001b[0mself\u001b[0m\u001b[0;34m.\u001b[0m\u001b[0m_call_fetch_callbacks\u001b[0m\u001b[0;34m(\u001b[0m\u001b[0mfetched\u001b[0m\u001b[0;34m[\u001b[0m\u001b[0;34m-\u001b[0m\u001b[0mlen\u001b[0m\u001b[0;34m(\u001b[0m\u001b[0mself\u001b[0m\u001b[0;34m.\u001b[0m\u001b[0m_fetches\u001b[0m\u001b[0;34m)\u001b[0m\u001b[0;34m:\u001b[0m\u001b[0;34m]\u001b[0m\u001b[0;34m)\u001b[0m\u001b[0;34m\u001b[0m\u001b[0m\n\u001b[1;32m   3294\u001b[0m     output_structure = nest.pack_sequence_as(\n",
      "\u001b[0;32m/usr/local/lib/python3.5/dist-packages/tensorflow/python/client/session.py\u001b[0m in \u001b[0;36m__call__\u001b[0;34m(self, *args, **kwargs)\u001b[0m\n\u001b[1;32m   1456\u001b[0m         ret = tf_session.TF_SessionRunCallable(self._session._session,\n\u001b[1;32m   1457\u001b[0m                                                \u001b[0mself\u001b[0m\u001b[0;34m.\u001b[0m\u001b[0m_handle\u001b[0m\u001b[0;34m,\u001b[0m \u001b[0margs\u001b[0m\u001b[0;34m,\u001b[0m\u001b[0;34m\u001b[0m\u001b[0m\n\u001b[0;32m-> 1458\u001b[0;31m                                                run_metadata_ptr)\n\u001b[0m\u001b[1;32m   1459\u001b[0m         \u001b[0;32mif\u001b[0m \u001b[0mrun_metadata\u001b[0m\u001b[0;34m:\u001b[0m\u001b[0;34m\u001b[0m\u001b[0m\n\u001b[1;32m   1460\u001b[0m           \u001b[0mproto_data\u001b[0m \u001b[0;34m=\u001b[0m \u001b[0mtf_session\u001b[0m\u001b[0;34m.\u001b[0m\u001b[0mTF_GetBuffer\u001b[0m\u001b[0;34m(\u001b[0m\u001b[0mrun_metadata_ptr\u001b[0m\u001b[0;34m)\u001b[0m\u001b[0;34m\u001b[0m\u001b[0m\n",
      "\u001b[0;31mKeyboardInterrupt\u001b[0m: "
     ]
    }
   ],
   "source": [
    "model.fit(image_array, new_mask_array, batch_size=1, epochs=5, verbose=1, shuffle=True)"
   ]
  },
  {
   "cell_type": "code",
   "execution_count": 20,
   "metadata": {},
   "outputs": [],
   "source": [
    "testing_image_arr=np.load('test_image.npy')"
   ]
  },
  {
   "cell_type": "code",
   "execution_count": 22,
   "metadata": {},
   "outputs": [
    {
     "data": {
      "text/plain": [
       "array([[128.  , 123.  , 119.5 , ..., 154.  , 170.25, 116.75],\n",
       "       [138.75, 132.5 , 124.5 , ..., 152.5 , 166.75, 116.  ],\n",
       "       [ 90.75,  98.25, 106.5 , ..., 150.  , 163.  , 114.75],\n",
       "       ...,\n",
       "       [ 99.  ,  98.  ,  99.5 , ...,  32.5 ,  86.  ,  97.75],\n",
       "       [ 99.  ,  98.  ,  99.75, ...,  29.5 ,  51.  ,  91.5 ],\n",
       "       [ 99.  ,  98.  , 100.  , ...,  30.25,  32.25,  47.25]])"
      ]
     },
     "execution_count": 22,
     "metadata": {},
     "output_type": "execute_result"
    }
   ],
   "source": [
    "testing_image_arr[0]"
   ]
  },
  {
   "cell_type": "code",
   "execution_count": 23,
   "metadata": {},
   "outputs": [],
   "source": [
    "testing_image_arr = testing_image_arr.astype('float32')"
   ]
  },
  {
   "cell_type": "code",
   "execution_count": 24,
   "metadata": {},
   "outputs": [],
   "source": [
    "testing_image_arr = testing_image_arr - np.mean(testing_image_arr)"
   ]
  },
  {
   "cell_type": "code",
   "execution_count": 25,
   "metadata": {},
   "outputs": [],
   "source": [
    "testing_image_arr = testing_image_arr / np.std(testing_image_arr)"
   ]
  },
  {
   "cell_type": "code",
   "execution_count": 26,
   "metadata": {},
   "outputs": [],
   "source": [
    "testing_image_arr = testing_image_arr[...,np.newaxis]"
   ]
  },
  {
   "cell_type": "code",
   "execution_count": 27,
   "metadata": {},
   "outputs": [
    {
     "data": {
      "text/plain": [
       "(500, 512, 512, 1)"
      ]
     },
     "execution_count": 27,
     "metadata": {},
     "output_type": "execute_result"
    }
   ],
   "source": [
    "testing_image_arr.shape"
   ]
  },
  {
   "cell_type": "code",
   "execution_count": 28,
   "metadata": {},
   "outputs": [
    {
     "name": "stdout",
     "output_type": "stream",
     "text": [
      "1/1 [==============================] - 0s 470ms/sample\n",
      "1/1 [==============================] - 0s 165ms/sample\n",
      "1/1 [==============================] - 0s 170ms/sample\n",
      "1/1 [==============================] - 0s 164ms/sample\n",
      "1/1 [==============================] - 0s 168ms/sample\n",
      "1/1 [==============================] - 0s 164ms/sample\n",
      "1/1 [==============================] - 0s 174ms/sample\n",
      "1/1 [==============================] - 0s 167ms/sample\n",
      "1/1 [==============================] - 0s 169ms/sample\n",
      "1/1 [==============================] - 0s 166ms/sample\n",
      "1/1 [==============================] - 0s 168ms/sample\n",
      "1/1 [==============================] - 0s 166ms/sample\n",
      "1/1 [==============================] - 0s 169ms/sample\n",
      "1/1 [==============================] - 0s 166ms/sample\n",
      "1/1 [==============================] - 0s 169ms/sample\n",
      "1/1 [==============================] - 0s 167ms/sample\n",
      "1/1 [==============================] - 0s 166ms/sample\n",
      "1/1 [==============================] - 0s 170ms/sample\n",
      "1/1 [==============================] - 0s 172ms/sample\n",
      "1/1 [==============================] - 0s 166ms/sample\n",
      "1/1 [==============================] - 0s 166ms/sample\n",
      "1/1 [==============================] - 0s 169ms/sample\n",
      "1/1 [==============================] - 0s 166ms/sample\n",
      "1/1 [==============================] - 0s 171ms/sample\n",
      "1/1 [==============================] - 0s 169ms/sample\n",
      "1/1 [==============================] - 0s 169ms/sample\n",
      "1/1 [==============================] - 0s 168ms/sample\n",
      "1/1 [==============================] - 0s 169ms/sample\n",
      "1/1 [==============================] - 0s 168ms/sample\n",
      "1/1 [==============================] - 0s 169ms/sample\n",
      "1/1 [==============================] - 0s 172ms/sample\n",
      "1/1 [==============================] - 0s 167ms/sample\n",
      "1/1 [==============================] - 0s 170ms/sample\n",
      "1/1 [==============================] - 0s 165ms/sample\n",
      "1/1 [==============================] - 0s 172ms/sample\n",
      "1/1 [==============================] - 0s 167ms/sample\n",
      "1/1 [==============================] - 0s 172ms/sample\n",
      "1/1 [==============================] - 0s 165ms/sample\n",
      "1/1 [==============================] - 0s 175ms/sample\n",
      "1/1 [==============================] - 0s 167ms/sample\n",
      "1/1 [==============================] - 0s 170ms/sample\n",
      "1/1 [==============================] - 0s 168ms/sample\n",
      "1/1 [==============================] - 0s 170ms/sample\n",
      "1/1 [==============================] - 0s 168ms/sample\n",
      "1/1 [==============================] - 0s 170ms/sample\n",
      "1/1 [==============================] - 0s 168ms/sample\n",
      "1/1 [==============================] - 0s 170ms/sample\n",
      "1/1 [==============================] - 0s 169ms/sample\n",
      "1/1 [==============================] - 0s 168ms/sample\n",
      "1/1 [==============================] - 0s 169ms/sample\n",
      "1/1 [==============================] - 0s 168ms/sample\n",
      "1/1 [==============================] - 0s 169ms/sample\n",
      "1/1 [==============================] - 0s 168ms/sample\n",
      "1/1 [==============================] - 0s 171ms/sample\n",
      "1/1 [==============================] - 0s 165ms/sample\n",
      "1/1 [==============================] - 0s 172ms/sample\n",
      "1/1 [==============================] - 0s 167ms/sample\n",
      "1/1 [==============================] - 0s 170ms/sample\n",
      "1/1 [==============================] - 0s 168ms/sample\n",
      "1/1 [==============================] - 0s 173ms/sample\n",
      "1/1 [==============================] - 0s 168ms/sample\n",
      "1/1 [==============================] - 0s 169ms/sample\n",
      "1/1 [==============================] - 0s 171ms/sample\n",
      "1/1 [==============================] - 0s 168ms/sample\n",
      "1/1 [==============================] - 0s 172ms/sample\n",
      "1/1 [==============================] - 0s 166ms/sample\n",
      "1/1 [==============================] - 0s 173ms/sample\n",
      "1/1 [==============================] - 0s 166ms/sample\n",
      "1/1 [==============================] - 0s 173ms/sample\n",
      "1/1 [==============================] - 0s 169ms/sample\n",
      "1/1 [==============================] - 0s 169ms/sample\n",
      "1/1 [==============================] - 0s 170ms/sample\n",
      "1/1 [==============================] - 0s 167ms/sample\n",
      "1/1 [==============================] - 0s 171ms/sample\n",
      "1/1 [==============================] - 0s 168ms/sample\n",
      "1/1 [==============================] - 0s 171ms/sample\n",
      "1/1 [==============================] - 0s 167ms/sample\n",
      "1/1 [==============================] - 0s 172ms/sample\n",
      "1/1 [==============================] - 0s 169ms/sample\n",
      "1/1 [==============================] - 0s 171ms/sample\n",
      "1/1 [==============================] - 0s 170ms/sample\n",
      "1/1 [==============================] - 0s 169ms/sample\n",
      "1/1 [==============================] - 0s 170ms/sample\n",
      "1/1 [==============================] - 0s 167ms/sample\n",
      "1/1 [==============================] - 0s 172ms/sample\n",
      "1/1 [==============================] - 0s 166ms/sample\n",
      "1/1 [==============================] - 0s 173ms/sample\n",
      "1/1 [==============================] - 0s 167ms/sample\n",
      "1/1 [==============================] - 0s 174ms/sample\n",
      "1/1 [==============================] - 0s 169ms/sample\n",
      "1/1 [==============================] - 0s 169ms/sample\n",
      "1/1 [==============================] - 0s 172ms/sample\n",
      "1/1 [==============================] - 0s 167ms/sample\n",
      "1/1 [==============================] - 0s 173ms/sample\n",
      "1/1 [==============================] - 0s 168ms/sample\n",
      "1/1 [==============================] - 0s 171ms/sample\n",
      "1/1 [==============================] - 0s 167ms/sample\n",
      "1/1 [==============================] - 0s 173ms/sample\n",
      "1/1 [==============================] - 0s 171ms/sample\n",
      "1/1 [==============================] - 0s 170ms/sample\n",
      "1/1 [==============================] - 0s 173ms/sample\n",
      "1/1 [==============================] - 0s 167ms/sample\n",
      "1/1 [==============================] - 0s 173ms/sample\n",
      "1/1 [==============================] - 0s 170ms/sample\n",
      "1/1 [==============================] - 0s 170ms/sample\n",
      "1/1 [==============================] - 0s 170ms/sample\n",
      "1/1 [==============================] - 0s 169ms/sample\n",
      "1/1 [==============================] - 0s 169ms/sample\n",
      "1/1 [==============================] - 0s 169ms/sample\n",
      "1/1 [==============================] - 0s 172ms/sample\n",
      "1/1 [==============================] - 0s 168ms/sample\n",
      "1/1 [==============================] - 0s 173ms/sample\n",
      "1/1 [==============================] - 0s 173ms/sample\n",
      "1/1 [==============================] - 0s 167ms/sample\n",
      "1/1 [==============================] - 0s 170ms/sample\n",
      "1/1 [==============================] - 0s 169ms/sample\n",
      "1/1 [==============================] - 0s 172ms/sample\n",
      "1/1 [==============================] - 0s 167ms/sample\n",
      "1/1 [==============================] - 0s 175ms/sample\n",
      "1/1 [==============================] - 0s 168ms/sample\n",
      "1/1 [==============================] - 0s 172ms/sample\n",
      "1/1 [==============================] - 0s 171ms/sample\n",
      "1/1 [==============================] - 0s 169ms/sample\n",
      "1/1 [==============================] - 0s 172ms/sample\n",
      "1/1 [==============================] - 0s 168ms/sample\n",
      "1/1 [==============================] - 0s 173ms/sample\n",
      "1/1 [==============================] - 0s 173ms/sample\n",
      "1/1 [==============================] - 0s 167ms/sample\n",
      "1/1 [==============================] - 0s 171ms/sample\n",
      "1/1 [==============================] - 0s 167ms/sample\n",
      "1/1 [==============================] - 0s 172ms/sample\n",
      "1/1 [==============================] - 0s 169ms/sample\n",
      "1/1 [==============================] - 0s 175ms/sample\n",
      "1/1 [==============================] - 0s 171ms/sample\n",
      "1/1 [==============================] - 0s 169ms/sample\n",
      "1/1 [==============================] - 0s 171ms/sample\n",
      "1/1 [==============================] - 0s 169ms/sample\n",
      "1/1 [==============================] - 0s 172ms/sample\n",
      "1/1 [==============================] - 0s 168ms/sample\n",
      "1/1 [==============================] - 0s 173ms/sample\n",
      "1/1 [==============================] - 0s 175ms/sample\n",
      "1/1 [==============================] - 0s 167ms/sample\n",
      "1/1 [==============================] - 0s 175ms/sample\n",
      "1/1 [==============================] - 0s 172ms/sample\n",
      "1/1 [==============================] - 0s 169ms/sample\n",
      "1/1 [==============================] - 0s 174ms/sample\n",
      "1/1 [==============================] - 0s 168ms/sample\n",
      "1/1 [==============================] - 0s 171ms/sample\n",
      "1/1 [==============================] - 0s 175ms/sample\n",
      "1/1 [==============================] - 0s 167ms/sample\n",
      "1/1 [==============================] - 0s 173ms/sample\n",
      "1/1 [==============================] - 0s 169ms/sample\n",
      "1/1 [==============================] - 0s 174ms/sample\n",
      "1/1 [==============================] - 0s 171ms/sample\n",
      "1/1 [==============================] - 0s 170ms/sample\n",
      "1/1 [==============================] - 0s 172ms/sample\n",
      "1/1 [==============================] - 0s 167ms/sample\n",
      "1/1 [==============================] - 0s 174ms/sample\n",
      "1/1 [==============================] - 0s 171ms/sample\n",
      "1/1 [==============================] - 0s 168ms/sample\n",
      "1/1 [==============================] - 0s 175ms/sample\n",
      "1/1 [==============================] - 0s 172ms/sample\n",
      "1/1 [==============================] - 0s 170ms/sample\n",
      "1/1 [==============================] - 0s 173ms/sample\n",
      "1/1 [==============================] - 0s 169ms/sample\n",
      "1/1 [==============================] - 0s 173ms/sample\n",
      "1/1 [==============================] - 0s 175ms/sample\n",
      "1/1 [==============================] - 0s 168ms/sample\n",
      "1/1 [==============================] - 0s 174ms/sample\n",
      "1/1 [==============================] - 0s 173ms/sample\n",
      "1/1 [==============================] - 0s 168ms/sample\n",
      "1/1 [==============================] - 0s 172ms/sample\n",
      "1/1 [==============================] - 0s 169ms/sample\n",
      "1/1 [==============================] - 0s 169ms/sample\n",
      "1/1 [==============================] - 0s 172ms/sample\n",
      "1/1 [==============================] - 0s 170ms/sample\n",
      "1/1 [==============================] - 0s 176ms/sample\n",
      "1/1 [==============================] - 0s 172ms/sample\n",
      "1/1 [==============================] - 0s 169ms/sample\n",
      "1/1 [==============================] - 0s 171ms/sample\n",
      "1/1 [==============================] - 0s 169ms/sample\n",
      "1/1 [==============================] - 0s 172ms/sample\n",
      "1/1 [==============================] - 0s 172ms/sample\n",
      "1/1 [==============================] - 0s 169ms/sample\n",
      "1/1 [==============================] - 0s 174ms/sample\n",
      "1/1 [==============================] - 0s 169ms/sample\n",
      "1/1 [==============================] - 0s 174ms/sample\n",
      "1/1 [==============================] - 0s 173ms/sample\n",
      "1/1 [==============================] - 0s 170ms/sample\n",
      "1/1 [==============================] - 0s 169ms/sample\n",
      "1/1 [==============================] - 0s 171ms/sample\n",
      "1/1 [==============================] - 0s 168ms/sample\n",
      "1/1 [==============================] - 0s 175ms/sample\n",
      "1/1 [==============================] - 0s 170ms/sample\n",
      "1/1 [==============================] - 0s 172ms/sample\n",
      "1/1 [==============================] - 0s 173ms/sample\n",
      "1/1 [==============================] - 0s 170ms/sample\n",
      "1/1 [==============================] - 0s 170ms/sample\n",
      "1/1 [==============================] - 0s 174ms/sample\n",
      "1/1 [==============================] - 0s 167ms/sample\n",
      "1/1 [==============================] - 0s 172ms/sample\n",
      "1/1 [==============================] - 0s 168ms/sample\n",
      "1/1 [==============================] - 0s 173ms/sample\n",
      "1/1 [==============================] - 0s 172ms/sample\n",
      "1/1 [==============================] - 0s 171ms/sample\n",
      "1/1 [==============================] - 0s 172ms/sample\n",
      "1/1 [==============================] - 0s 175ms/sample\n",
      "1/1 [==============================] - 0s 172ms/sample\n",
      "1/1 [==============================] - 0s 170ms/sample\n",
      "1/1 [==============================] - 0s 177ms/sample\n",
      "1/1 [==============================] - 0s 177ms/sample\n",
      "1/1 [==============================] - 0s 167ms/sample\n",
      "1/1 [==============================] - 0s 173ms/sample\n",
      "1/1 [==============================] - 0s 175ms/sample\n",
      "1/1 [==============================] - 0s 168ms/sample\n",
      "1/1 [==============================] - 0s 174ms/sample\n",
      "1/1 [==============================] - 0s 177ms/sample\n",
      "1/1 [==============================] - 0s 171ms/sample\n",
      "1/1 [==============================] - 0s 171ms/sample\n",
      "1/1 [==============================] - 0s 173ms/sample\n",
      "1/1 [==============================] - 0s 168ms/sample\n",
      "1/1 [==============================] - 0s 172ms/sample\n",
      "1/1 [==============================] - 0s 174ms/sample\n",
      "1/1 [==============================] - 0s 169ms/sample\n",
      "1/1 [==============================] - 0s 174ms/sample\n",
      "1/1 [==============================] - 0s 172ms/sample\n",
      "1/1 [==============================] - 0s 168ms/sample\n",
      "1/1 [==============================] - 0s 172ms/sample\n",
      "1/1 [==============================] - 0s 177ms/sample\n",
      "1/1 [==============================] - 0s 173ms/sample\n",
      "1/1 [==============================] - 0s 169ms/sample\n",
      "1/1 [==============================] - 0s 173ms/sample\n",
      "1/1 [==============================] - 0s 171ms/sample\n",
      "1/1 [==============================] - 0s 170ms/sample\n",
      "1/1 [==============================] - 0s 179ms/sample\n",
      "1/1 [==============================] - 0s 176ms/sample\n",
      "1/1 [==============================] - 0s 169ms/sample\n",
      "1/1 [==============================] - 0s 171ms/sample\n",
      "1/1 [==============================] - 0s 176ms/sample\n",
      "1/1 [==============================] - 0s 173ms/sample\n",
      "1/1 [==============================] - 0s 169ms/sample\n",
      "1/1 [==============================] - 0s 173ms/sample\n",
      "1/1 [==============================] - 0s 170ms/sample\n",
      "1/1 [==============================] - 0s 170ms/sample\n",
      "1/1 [==============================] - 0s 173ms/sample\n",
      "1/1 [==============================] - 0s 168ms/sample\n",
      "1/1 [==============================] - 0s 174ms/sample\n",
      "1/1 [==============================] - 0s 174ms/sample\n",
      "1/1 [==============================] - 0s 167ms/sample\n",
      "1/1 [==============================] - 0s 173ms/sample\n",
      "1/1 [==============================] - 0s 177ms/sample\n",
      "1/1 [==============================] - 0s 175ms/sample\n",
      "1/1 [==============================] - 0s 169ms/sample\n",
      "1/1 [==============================] - 0s 174ms/sample\n",
      "1/1 [==============================] - 0s 172ms/sample\n",
      "1/1 [==============================] - 0s 166ms/sample\n",
      "1/1 [==============================] - 0s 177ms/sample\n",
      "1/1 [==============================] - 0s 176ms/sample\n",
      "1/1 [==============================] - 0s 170ms/sample\n",
      "1/1 [==============================] - 0s 171ms/sample\n",
      "1/1 [==============================] - 0s 178ms/sample\n",
      "1/1 [==============================] - 0s 172ms/sample\n",
      "1/1 [==============================] - 0s 168ms/sample\n",
      "1/1 [==============================] - 0s 174ms/sample\n",
      "1/1 [==============================] - 0s 173ms/sample\n",
      "1/1 [==============================] - 0s 177ms/sample\n",
      "1/1 [==============================] - 0s 172ms/sample\n",
      "1/1 [==============================] - 0s 167ms/sample\n",
      "1/1 [==============================] - 0s 170ms/sample\n",
      "1/1 [==============================] - 0s 170ms/sample\n",
      "1/1 [==============================] - 0s 170ms/sample\n",
      "1/1 [==============================] - 0s 172ms/sample\n",
      "1/1 [==============================] - 0s 168ms/sample\n",
      "1/1 [==============================] - 0s 169ms/sample\n",
      "1/1 [==============================] - 0s 168ms/sample\n",
      "1/1 [==============================] - 0s 170ms/sample\n",
      "1/1 [==============================] - 0s 173ms/sample\n",
      "1/1 [==============================] - 0s 166ms/sample\n",
      "1/1 [==============================] - 0s 173ms/sample\n",
      "1/1 [==============================] - 0s 169ms/sample\n",
      "1/1 [==============================] - 0s 171ms/sample\n",
      "1/1 [==============================] - 0s 169ms/sample\n",
      "1/1 [==============================] - 0s 169ms/sample\n",
      "1/1 [==============================] - 0s 170ms/sample\n",
      "1/1 [==============================] - 0s 169ms/sample\n",
      "1/1 [==============================] - 0s 171ms/sample\n",
      "1/1 [==============================] - 0s 168ms/sample\n",
      "1/1 [==============================] - 0s 171ms/sample\n",
      "1/1 [==============================] - 0s 171ms/sample\n",
      "1/1 [==============================] - 0s 167ms/sample\n",
      "1/1 [==============================] - 0s 173ms/sample\n",
      "1/1 [==============================] - 0s 167ms/sample\n",
      "1/1 [==============================] - 0s 172ms/sample\n",
      "1/1 [==============================] - 0s 171ms/sample\n",
      "1/1 [==============================] - 0s 167ms/sample\n",
      "1/1 [==============================] - 0s 172ms/sample\n",
      "1/1 [==============================] - 0s 168ms/sample\n",
      "1/1 [==============================] - 0s 172ms/sample\n",
      "1/1 [==============================] - 0s 171ms/sample\n",
      "1/1 [==============================] - 0s 168ms/sample\n",
      "1/1 [==============================] - 0s 173ms/sample\n",
      "1/1 [==============================] - 0s 168ms/sample\n",
      "1/1 [==============================] - 0s 173ms/sample\n",
      "1/1 [==============================] - 0s 171ms/sample\n",
      "1/1 [==============================] - 0s 168ms/sample\n",
      "1/1 [==============================] - 0s 170ms/sample\n",
      "1/1 [==============================] - 0s 168ms/sample\n",
      "1/1 [==============================] - 0s 171ms/sample\n",
      "1/1 [==============================] - 0s 167ms/sample\n",
      "1/1 [==============================] - 0s 173ms/sample\n",
      "1/1 [==============================] - 0s 168ms/sample\n",
      "1/1 [==============================] - 0s 171ms/sample\n",
      "1/1 [==============================] - 0s 171ms/sample\n",
      "1/1 [==============================] - 0s 167ms/sample\n",
      "1/1 [==============================] - 0s 173ms/sample\n",
      "1/1 [==============================] - 0s 168ms/sample\n",
      "1/1 [==============================] - 0s 171ms/sample\n",
      "1/1 [==============================] - 0s 173ms/sample\n",
      "1/1 [==============================] - 0s 166ms/sample\n",
      "1/1 [==============================] - 0s 173ms/sample\n",
      "1/1 [==============================] - 0s 166ms/sample\n",
      "1/1 [==============================] - 0s 174ms/sample\n",
      "1/1 [==============================] - 0s 172ms/sample\n",
      "1/1 [==============================] - 0s 171ms/sample\n",
      "1/1 [==============================] - 0s 171ms/sample\n",
      "1/1 [==============================] - 0s 168ms/sample\n",
      "1/1 [==============================] - 0s 171ms/sample\n",
      "1/1 [==============================] - 0s 168ms/sample\n",
      "1/1 [==============================] - 0s 171ms/sample\n",
      "1/1 [==============================] - 0s 173ms/sample\n",
      "1/1 [==============================] - 0s 167ms/sample\n",
      "1/1 [==============================] - 0s 172ms/sample\n",
      "1/1 [==============================] - 0s 167ms/sample\n",
      "1/1 [==============================] - 0s 173ms/sample\n",
      "1/1 [==============================] - 0s 173ms/sample\n",
      "1/1 [==============================] - 0s 168ms/sample\n",
      "1/1 [==============================] - 0s 172ms/sample\n",
      "1/1 [==============================] - 0s 170ms/sample\n",
      "1/1 [==============================] - 0s 168ms/sample\n",
      "1/1 [==============================] - 0s 172ms/sample\n",
      "1/1 [==============================] - 0s 168ms/sample\n",
      "1/1 [==============================] - 0s 174ms/sample\n",
      "1/1 [==============================] - 0s 170ms/sample\n",
      "1/1 [==============================] - 0s 170ms/sample\n",
      "1/1 [==============================] - 0s 169ms/sample\n",
      "1/1 [==============================] - 0s 169ms/sample\n",
      "1/1 [==============================] - 0s 171ms/sample\n",
      "1/1 [==============================] - 0s 169ms/sample\n",
      "1/1 [==============================] - 0s 173ms/sample\n",
      "1/1 [==============================] - 0s 170ms/sample\n",
      "1/1 [==============================] - 0s 168ms/sample\n",
      "1/1 [==============================] - 0s 173ms/sample\n",
      "1/1 [==============================] - 0s 167ms/sample\n",
      "1/1 [==============================] - 0s 174ms/sample\n",
      "1/1 [==============================] - 0s 174ms/sample\n",
      "1/1 [==============================] - 0s 168ms/sample\n",
      "1/1 [==============================] - 0s 172ms/sample\n",
      "1/1 [==============================] - 0s 168ms/sample\n",
      "1/1 [==============================] - 0s 170ms/sample\n",
      "1/1 [==============================] - 0s 170ms/sample\n",
      "1/1 [==============================] - 0s 168ms/sample\n",
      "1/1 [==============================] - 0s 174ms/sample\n",
      "1/1 [==============================] - 0s 169ms/sample\n",
      "1/1 [==============================] - 0s 171ms/sample\n",
      "1/1 [==============================] - 0s 170ms/sample\n",
      "1/1 [==============================] - 0s 169ms/sample\n",
      "1/1 [==============================] - 0s 174ms/sample\n",
      "1/1 [==============================] - 0s 171ms/sample\n",
      "1/1 [==============================] - 0s 170ms/sample\n",
      "1/1 [==============================] - 0s 173ms/sample\n",
      "1/1 [==============================] - 0s 167ms/sample\n",
      "1/1 [==============================] - 0s 173ms/sample\n",
      "1/1 [==============================] - 0s 172ms/sample\n",
      "1/1 [==============================] - 0s 169ms/sample\n",
      "1/1 [==============================] - 0s 172ms/sample\n",
      "1/1 [==============================] - 0s 168ms/sample\n",
      "1/1 [==============================] - 0s 172ms/sample\n",
      "1/1 [==============================] - 0s 170ms/sample\n",
      "1/1 [==============================] - 0s 169ms/sample\n",
      "1/1 [==============================] - 0s 172ms/sample\n",
      "1/1 [==============================] - 0s 167ms/sample\n",
      "1/1 [==============================] - 0s 175ms/sample\n",
      "1/1 [==============================] - 0s 172ms/sample\n",
      "1/1 [==============================] - 0s 169ms/sample\n",
      "1/1 [==============================] - 0s 173ms/sample\n",
      "1/1 [==============================] - 0s 171ms/sample\n",
      "1/1 [==============================] - 0s 169ms/sample\n",
      "1/1 [==============================] - 0s 171ms/sample\n",
      "1/1 [==============================] - 0s 167ms/sample\n",
      "1/1 [==============================] - 0s 175ms/sample\n",
      "1/1 [==============================] - 0s 173ms/sample\n",
      "1/1 [==============================] - 0s 169ms/sample\n",
      "1/1 [==============================] - 0s 172ms/sample\n",
      "1/1 [==============================] - 0s 168ms/sample\n",
      "1/1 [==============================] - 0s 171ms/sample\n",
      "1/1 [==============================] - 0s 172ms/sample\n",
      "1/1 [==============================] - 0s 168ms/sample\n",
      "1/1 [==============================] - 0s 174ms/sample\n",
      "1/1 [==============================] - 0s 170ms/sample\n",
      "1/1 [==============================] - 0s 171ms/sample\n",
      "1/1 [==============================] - 0s 172ms/sample\n",
      "1/1 [==============================] - 0s 168ms/sample\n",
      "1/1 [==============================] - 0s 173ms/sample\n",
      "1/1 [==============================] - 0s 168ms/sample\n",
      "1/1 [==============================] - 0s 171ms/sample\n",
      "1/1 [==============================] - 0s 174ms/sample\n",
      "1/1 [==============================] - 0s 168ms/sample\n",
      "1/1 [==============================] - 0s 172ms/sample\n",
      "1/1 [==============================] - 0s 171ms/sample\n",
      "1/1 [==============================] - 0s 169ms/sample\n",
      "1/1 [==============================] - 0s 172ms/sample\n",
      "1/1 [==============================] - 0s 168ms/sample\n",
      "1/1 [==============================] - 0s 172ms/sample\n",
      "1/1 [==============================] - 0s 173ms/sample\n",
      "1/1 [==============================] - 0s 167ms/sample\n",
      "1/1 [==============================] - 0s 173ms/sample\n",
      "1/1 [==============================] - 0s 169ms/sample\n",
      "1/1 [==============================] - 0s 171ms/sample\n",
      "1/1 [==============================] - 0s 174ms/sample\n",
      "1/1 [==============================] - 0s 169ms/sample\n",
      "1/1 [==============================] - 0s 170ms/sample\n",
      "1/1 [==============================] - 0s 173ms/sample\n",
      "1/1 [==============================] - 0s 168ms/sample\n",
      "1/1 [==============================] - 0s 173ms/sample\n",
      "1/1 [==============================] - 0s 171ms/sample\n",
      "1/1 [==============================] - 0s 170ms/sample\n",
      "1/1 [==============================] - 0s 173ms/sample\n",
      "1/1 [==============================] - 0s 169ms/sample\n",
      "1/1 [==============================] - 0s 172ms/sample\n",
      "1/1 [==============================] - 0s 173ms/sample\n",
      "1/1 [==============================] - 0s 167ms/sample\n",
      "1/1 [==============================] - 0s 174ms/sample\n",
      "1/1 [==============================] - 0s 174ms/sample\n",
      "1/1 [==============================] - 0s 168ms/sample\n",
      "1/1 [==============================] - 0s 170ms/sample\n",
      "1/1 [==============================] - 0s 168ms/sample\n",
      "1/1 [==============================] - 0s 170ms/sample\n",
      "1/1 [==============================] - 0s 172ms/sample\n",
      "1/1 [==============================] - 0s 170ms/sample\n",
      "1/1 [==============================] - 0s 174ms/sample\n",
      "1/1 [==============================] - 0s 172ms/sample\n",
      "1/1 [==============================] - 0s 168ms/sample\n",
      "1/1 [==============================] - 0s 172ms/sample\n",
      "1/1 [==============================] - 0s 170ms/sample\n",
      "1/1 [==============================] - 0s 171ms/sample\n",
      "1/1 [==============================] - 0s 173ms/sample\n",
      "1/1 [==============================] - 0s 169ms/sample\n",
      "1/1 [==============================] - 0s 172ms/sample\n",
      "1/1 [==============================] - 0s 171ms/sample\n",
      "1/1 [==============================] - 0s 171ms/sample\n",
      "1/1 [==============================] - 0s 174ms/sample\n",
      "1/1 [==============================] - 0s 170ms/sample\n",
      "1/1 [==============================] - 0s 170ms/sample\n",
      "1/1 [==============================] - 0s 172ms/sample\n",
      "1/1 [==============================] - 0s 168ms/sample\n",
      "1/1 [==============================] - 0s 173ms/sample\n",
      "1/1 [==============================] - 0s 170ms/sample\n",
      "1/1 [==============================] - 0s 170ms/sample\n",
      "1/1 [==============================] - 0s 171ms/sample\n",
      "1/1 [==============================] - 0s 168ms/sample\n",
      "1/1 [==============================] - 0s 172ms/sample\n",
      "1/1 [==============================] - 0s 171ms/sample\n",
      "1/1 [==============================] - 0s 168ms/sample\n",
      "1/1 [==============================] - 0s 173ms/sample\n",
      "1/1 [==============================] - 0s 168ms/sample\n",
      "1/1 [==============================] - 0s 174ms/sample\n",
      "1/1 [==============================] - 0s 170ms/sample\n",
      "1/1 [==============================] - 0s 171ms/sample\n",
      "1/1 [==============================] - 0s 173ms/sample\n",
      "1/1 [==============================] - 0s 170ms/sample\n",
      "1/1 [==============================] - 0s 171ms/sample\n",
      "1/1 [==============================] - 0s 172ms/sample\n",
      "1/1 [==============================] - 0s 168ms/sample\n",
      "1/1 [==============================] - 0s 175ms/sample\n",
      "1/1 [==============================] - 0s 172ms/sample\n",
      "1/1 [==============================] - 0s 168ms/sample\n",
      "1/1 [==============================] - 0s 173ms/sample\n",
      "1/1 [==============================] - 0s 170ms/sample\n",
      "1/1 [==============================] - 0s 170ms/sample\n",
      "1/1 [==============================] - 0s 175ms/sample\n",
      "1/1 [==============================] - 0s 168ms/sample\n",
      "1/1 [==============================] - 0s 173ms/sample\n",
      "1/1 [==============================] - 0s 172ms/sample\n",
      "1/1 [==============================] - 0s 168ms/sample\n",
      "1/1 [==============================] - 0s 173ms/sample\n",
      "1/1 [==============================] - 0s 169ms/sample\n",
      "1/1 [==============================] - 0s 170ms/sample\n",
      "1/1 [==============================] - 0s 173ms/sample\n",
      "1/1 [==============================] - 0s 168ms/sample\n",
      "1/1 [==============================] - 0s 172ms/sample\n",
      "1/1 [==============================] - 0s 167ms/sample\n",
      "1/1 [==============================] - 0s 175ms/sample\n",
      "1/1 [==============================] - 0s 172ms/sample\n",
      "1/1 [==============================] - 0s 171ms/sample\n",
      "1/1 [==============================] - 0s 171ms/sample\n",
      "1/1 [==============================] - 0s 172ms/sample\n",
      "1/1 [==============================] - 0s 169ms/sample\n",
      "1/1 [==============================] - 0s 172ms/sample\n",
      "1/1 [==============================] - 0s 168ms/sample\n",
      "1/1 [==============================] - 0s 175ms/sample\n"
     ]
    }
   ],
   "source": [
    "mask_pred=[]\n",
    "for image in testing_image_arr:\n",
    "    image=image[np.newaxis,...]\n",
    "    predicted = model.predict(image, verbose=1)\n",
    "    mask_pred.append(predicted)"
   ]
  },
  {
   "cell_type": "code",
   "execution_count": 29,
   "metadata": {},
   "outputs": [],
   "source": [
    "mask_pred=np.array(mask_pred)"
   ]
  },
  {
   "cell_type": "code",
   "execution_count": 30,
   "metadata": {},
   "outputs": [
    {
     "data": {
      "text/plain": [
       "array([[[[0.00505072],\n",
       "         [0.00307527],\n",
       "         [0.00326651],\n",
       "         ...,\n",
       "         [0.002969  ],\n",
       "         [0.00409433],\n",
       "         [0.00453833]],\n",
       "\n",
       "        [[0.00136477],\n",
       "         [0.00144318],\n",
       "         [0.00150025],\n",
       "         ...,\n",
       "         [0.00171745],\n",
       "         [0.00200453],\n",
       "         [0.00190383]],\n",
       "\n",
       "        [[0.00210747],\n",
       "         [0.00233793],\n",
       "         [0.00253317],\n",
       "         ...,\n",
       "         [0.00242648],\n",
       "         [0.00237051],\n",
       "         [0.00241786]],\n",
       "\n",
       "        ...,\n",
       "\n",
       "        [[0.0023492 ],\n",
       "         [0.00186354],\n",
       "         [0.00141314],\n",
       "         ...,\n",
       "         [0.00666636],\n",
       "         [0.00503829],\n",
       "         [0.00326705]],\n",
       "\n",
       "        [[0.00252691],\n",
       "         [0.0018723 ],\n",
       "         [0.00143653],\n",
       "         ...,\n",
       "         [0.00433785],\n",
       "         [0.00458503],\n",
       "         [0.00330603]],\n",
       "\n",
       "        [[0.00465256],\n",
       "         [0.00246552],\n",
       "         [0.00279844],\n",
       "         ...,\n",
       "         [0.00450251],\n",
       "         [0.00715336],\n",
       "         [0.00439385]]]], dtype=float32)"
      ]
     },
     "execution_count": 30,
     "metadata": {},
     "output_type": "execute_result"
    }
   ],
   "source": [
    "mask_pred[0]"
   ]
  },
  {
   "cell_type": "code",
   "execution_count": 33,
   "metadata": {},
   "outputs": [],
   "source": [
    "mask_pred=np.squeeze(mask_pred, axis=1)"
   ]
  },
  {
   "cell_type": "code",
   "execution_count": 34,
   "metadata": {},
   "outputs": [
    {
     "data": {
      "text/plain": [
       "(500, 512, 512, 1)"
      ]
     },
     "execution_count": 34,
     "metadata": {},
     "output_type": "execute_result"
    }
   ],
   "source": [
    "mask_pred.shape"
   ]
  },
  {
   "cell_type": "code",
   "execution_count": 35,
   "metadata": {},
   "outputs": [
    {
     "data": {
      "text/plain": [
       "<matplotlib.image.AxesImage at 0x7fec71d72a20>"
      ]
     },
     "execution_count": 35,
     "metadata": {},
     "output_type": "execute_result"
    },
    {
     "data": {
      "image/png": "[encoded data removed]",
      "text/plain": [
       "<Figure size 432x288 with 1 Axes>"
      ]
     },
     "metadata": {
      "needs_background": "light"
     },
     "output_type": "display_data"
    }
   ],
   "source": [
    "plt.imshow(np.squeeze(mask_pred[0], axis=2))"
   ]
  },
  {
   "cell_type": "code",
   "execution_count": 56,
   "metadata": {},
   "outputs": [],
   "source": [
    "# Saving numpy array of the prediction made by model\n",
    "np.save('predicted_mask.npy', mask_pred)"
   ]
  },
  {
   "cell_type": "code",
   "execution_count": 4,
   "metadata": {},
   "outputs": [],
   "source": [
    "# loading predicted mask of test image\n",
    "mask_pred=np.load('predicted_mask.npy')"
   ]
  },
  {
   "cell_type": "code",
   "execution_count": 36,
   "metadata": {},
   "outputs": [],
   "source": [
    "# loading test ground truth mask image\n",
    "mask_real = np.load('test_real_mask.npy')"
   ]
  },
  {
   "cell_type": "code",
   "execution_count": 38,
   "metadata": {},
   "outputs": [],
   "source": [
    "#adding channel in the np array\n",
    "mask_real=mask_real[...,np.newaxis]\n",
    "#mask_pred = mask_pred[...,np.newaxis]"
   ]
  },
  {
   "cell_type": "code",
   "execution_count": 7,
   "metadata": {},
   "outputs": [],
   "source": [
    "# squeezing array\n",
    "mask_pred=np.squeeze(mask_pred,axis=3)"
   ]
  },
  {
   "cell_type": "code",
   "execution_count": 39,
   "metadata": {},
   "outputs": [
    {
     "data": {
      "text/plain": [
       "(500, 512, 512, 1)"
      ]
     },
     "execution_count": 39,
     "metadata": {},
     "output_type": "execute_result"
    }
   ],
   "source": [
    "mask_real.shape"
   ]
  },
  {
   "cell_type": "markdown",
   "metadata": {},
   "source": [
    "# Calculating matrix for iou"
   ]
  },
  {
   "cell_type": "code",
   "execution_count": 41,
   "metadata": {},
   "outputs": [],
   "source": [
    "from copy import deepcopy"
   ]
  },
  {
   "cell_type": "code",
   "execution_count": 40,
   "metadata": {},
   "outputs": [],
   "source": [
    "mask_real = mask_real.astype('float32')"
   ]
  },
  {
   "cell_type": "code",
   "execution_count": 42,
   "metadata": {},
   "outputs": [
    {
     "data": {
      "text/plain": [
       "(500, 512, 512, 1)"
      ]
     },
     "execution_count": 42,
     "metadata": {},
     "output_type": "execute_result"
    }
   ],
   "source": [
    "mask_pred.shape"
   ]
  },
  {
   "cell_type": "code",
   "execution_count": 43,
   "metadata": {},
   "outputs": [
    {
     "data": {
      "text/plain": [
       "(500, 512, 512, 1)"
      ]
     },
     "execution_count": 43,
     "metadata": {},
     "output_type": "execute_result"
    }
   ],
   "source": [
    "mask_real.shape"
   ]
  },
  {
   "cell_type": "code",
   "execution_count": 44,
   "metadata": {},
   "outputs": [],
   "source": [
    "temp_mask=deepcopy(mask_pred)"
   ]
  },
  {
   "cell_type": "code",
   "execution_count": 45,
   "metadata": {},
   "outputs": [],
   "source": [
    "# threshold for predicted mask.\n",
    "for image in temp_mask:\n",
    "    image[image<0.5]=0\n",
    "    image[image>=0.5]=1"
   ]
  },
  {
   "cell_type": "code",
   "execution_count": 46,
   "metadata": {},
   "outputs": [],
   "source": [
    "# threshold for original mask.\n",
    "for image in mask_real:\n",
    "    image[image<0.5]=0\n",
    "    image[image>=0.5]=1"
   ]
  },
  {
   "cell_type": "code",
   "execution_count": 61,
   "metadata": {},
   "outputs": [],
   "source": [
    "matplotlib.rcParams['figure.figsize'] = (20.0, 10.0)"
   ]
  },
  {
   "cell_type": "code",
   "execution_count": 60,
   "metadata": {},
   "outputs": [
    {
     "data": {
      "image/png": "[encoded data removed]",
      "text/plain": [
       "<Figure size 1440x720 with 3 Axes>"
      ]
     },
     "metadata": {
      "needs_background": "light"
     },
     "output_type": "display_data"
    }
   ],
   "source": [
    "plt.subplot(2, 3, 1)\n",
    "plt.imshow(np.squeeze(temp_mask[0],axis=2))\n",
    "\n",
    "plt.subplot(2, 3, 2)\n",
    "plt.imshow(np.squeeze(mask_real[0],axis=2))\n",
    "\n",
    "plt.subplot(2, 3, 4)\n",
    "plt.imshow(np.squeeze(test_image[0],axis=2),cmap='gray')\n",
    "\n",
    "plt.show()"
   ]
  },
  {
   "cell_type": "markdown",
   "metadata": {},
   "source": [
    "# calculating iou"
   ]
  },
  {
   "cell_type": "code",
   "execution_count": 50,
   "metadata": {},
   "outputs": [
    {
     "name": "stderr",
     "output_type": "stream",
     "text": [
      "/usr/local/lib/python3.5/dist-packages/ipykernel_launcher.py:5: RuntimeWarning: invalid value encountered in long_scalars\n",
      "  \"\"\"\n"
     ]
    }
   ],
   "source": [
    "arr_iou=[]\n",
    "for i in range(len(mask_real)):\n",
    "    intersection = np.logical_and(mask_real[i],temp_mask[i])\n",
    "    union = np.logical_or(mask_real[i], temp_mask[i])\n",
    "    iou_score = np.sum(intersection) / np.sum(union)\n",
    "    arr_iou.append(iou_score)"
   ]
  },
  {
   "cell_type": "code",
   "execution_count": 52,
   "metadata": {},
   "outputs": [],
   "source": [
    "arr_iou=np.array(arr_iou)"
   ]
  },
  {
   "cell_type": "code",
   "execution_count": 53,
   "metadata": {},
   "outputs": [],
   "source": [
    "arr_iou= np.nan_to_num(arr_iou, copy=True, nan=1.0)"
   ]
  },
  {
   "cell_type": "code",
   "execution_count": 54,
   "metadata": {},
   "outputs": [],
   "source": [
    "mean_iou=arr_iou.mean()"
   ]
  },
  {
   "cell_type": "code",
   "execution_count": 55,
   "metadata": {},
   "outputs": [
    {
     "data": {
      "text/plain": [
       "0.7404357178014193"
      ]
     },
     "execution_count": 55,
     "metadata": {},
     "output_type": "execute_result"
    }
   ],
   "source": [
    "mean_iou"
   ]
  },
  {
   "cell_type": "code",
   "execution_count": null,
   "metadata": {},
   "outputs": [],
   "source": []
  },
  {
   "cell_type": "code",
   "execution_count": null,
   "metadata": {},
   "outputs": [],
   "source": []
  }
 ],
 "metadata": {
  "kernelspec": {
   "display_name": "Python 3",
   "language": "python",
   "name": "python3"
  },
  "language_info": {
   "codemirror_mode": {
    "name": "ipython",
    "version": 3
   },
   "file_extension": ".py",
   "mimetype": "text/x-python",
   "name": "python",
   "nbconvert_exporter": "python",
   "pygments_lexer": "ipython3",
   "version": "3.5.3"
  }
 },
 "nbformat": 4,
 "nbformat_minor": 4
}
